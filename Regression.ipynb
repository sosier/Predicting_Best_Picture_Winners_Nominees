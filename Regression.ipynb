{
 "cells": [
  {
   "cell_type": "markdown",
   "metadata": {},
   "source": [
    "# Predicting Best Picture Winners & Nominees\n",
    "*An Analysis by Sean Osier*"
   ]
  },
  {
   "cell_type": "markdown",
   "metadata": {},
   "source": [
    "## Regression"
   ]
  },
  {
   "cell_type": "code",
   "execution_count": 6,
   "metadata": {
    "collapsed": true
   },
   "outputs": [],
   "source": [
    "# Import Dependencies\n",
    "import pickle\n",
    "import random\n",
    "from patsy import dmatrices\n",
    "from patsy import dmatrix\n",
    "import statsmodels.api as sm\n",
    "import statsmodels.formula.api as smf\n",
    "\n",
    "import pandas as pd\n",
    "pd.set_option('display.max_rows', 500)\n",
    "pd.set_option('display.max_columns', 500)\n",
    "pd.set_option('display.width', 1000)\n",
    "pd.options.display.mpl_style = 'default'\n",
    "\n",
    "import numpy as np\n",
    "\n",
    "# For display\n",
    "import pprint\n",
    "import matplotlib.pyplot as plt\n",
    "%matplotlib inline"
   ]
  },
  {
   "cell_type": "code",
   "execution_count": 7,
   "metadata": {
    "collapsed": true
   },
   "outputs": [],
   "source": [
    "# Pickling functions\n",
    "def pickle_it(data, filename, python_version=3):\n",
    "    \"\"\"\n",
    "    In:\n",
    "    data = the data you want to pickle (save)\n",
    "    filename = file name where you want to save the data\n",
    "    python_version = the python version where you will be opening the pickle file\n",
    "    \n",
    "    Out:\n",
    "    Saves a pickle file with your data to to the filename you specify\n",
    "    \"\"\"\n",
    "    with open(filename, \"wb\") as picklefile:\n",
    "        pickle.dump(data, picklefile, protocol=python_version)\n",
    "\n",
    "def load_pickle(filename):\n",
    "    \"\"\"\n",
    "    In:\n",
    "    filename = name of the pickle file you want to open (e.g \"my_pickle.pkl\")\n",
    "    \n",
    "    Out:\n",
    "    Opens and returns the content of the picklefile to a variable of your choice\n",
    "    \"\"\"\n",
    "    with open(filename, \"rb\") as picklefile: \n",
    "        return pickle.load(picklefile)"
   ]
  },
  {
   "cell_type": "code",
   "execution_count": 8,
   "metadata": {
    "collapsed": true
   },
   "outputs": [],
   "source": [
    "# Load the data to be regressed\n",
    "to_regress_raw = load_pickle(\"df_for_regression.pkl\")"
   ]
  },
  {
   "cell_type": "code",
   "execution_count": 9,
   "metadata": {
    "collapsed": false
   },
   "outputs": [],
   "source": [
    "def get_random_years_from_range(years, years_to_pick):\n",
    "    \"\"\"\n",
    "    In:\n",
    "    year = list of years in your data set\n",
    "    years_to_pick = number of year you want to randomly select (without duplication)\n",
    "    \n",
    "    Out:\n",
    "    Prints your randomly selected years\n",
    "    \"\"\"\n",
    "    test_years = random.sample(years, years_to_pick)\n",
    "    print(test_years)\n",
    "\n",
    "# Select which years will be for the test data, the rest will be for the training data\n",
    "years = range(1990, 2015)\n",
    "# get_random_years_from_range(range(1990, 2015), 5)  # Returned the below:\n",
    "test_years = [1993, 2001, 2012, 2004, 2005]\n",
    "train_years = list(set(years) - set(test_years))\n",
    "test_years = [str(year) for year in test_years]\n",
    "train_years = [str(year) for year in train_years]"
   ]
  },
  {
   "cell_type": "code",
   "execution_count": 10,
   "metadata": {
    "collapsed": false
   },
   "outputs": [],
   "source": [
    "# Split full data into the test and training sets\n",
    "test_criterion = to_regress_raw[\"status_year\"].map(lambda x: x in test_years)\n",
    "train_criterion = to_regress_raw[\"status_year\"].map(lambda x: x in train_years)\n",
    "\n",
    "to_test_raw = to_regress_raw[test_criterion]\n",
    "to_train_raw = to_regress_raw[train_criterion]"
   ]
  },
  {
   "cell_type": "code",
   "execution_count": 11,
   "metadata": {
    "collapsed": false
   },
   "outputs": [],
   "source": [
    "def oversample_nominees_and_winners(df, factor):\n",
    "    \"\"\"\n",
    "    In:\n",
    "    df = Pandas dataframe of your training data\n",
    "    factor = the factor by which you want to scale the number of Best Picture nominees / winners in the data\n",
    "    \n",
    "    Out:\n",
    "    df = Pandas dataframe of your training data now oversampled for Best Picture nominees / winners\n",
    "    \"\"\"\n",
    "    nominees_and_winners = df[df[\"status_score\"] > 0]\n",
    "    \n",
    "    for i in range(factor-1):\n",
    "        df = pd.concat([df, nominees_and_winners])\n",
    "    \n",
    "    return df\n",
    "\n",
    "to_train_oversample = oversample_nominees_and_winners(to_train_raw, 5)"
   ]
  },
  {
   "cell_type": "code",
   "execution_count": 12,
   "metadata": {
    "collapsed": false
   },
   "outputs": [],
   "source": [
    "def get_patsy_string(for_regression_raw_data):\n",
    "    \"\"\"\n",
    "    In:\n",
    "    for_regresssion_raw_data = Pandas dataframe of your training data (oversampled if needed)\n",
    "    \n",
    "    Out:\n",
    "    patsy_string = Patsy regression formula string to feed into regression model\n",
    "    \"\"\"\n",
    "    columns = list(for_regression_raw_data.columns.values)\n",
    "    x_columns = columns[1:4] + columns[5:9] + columns[10:]  # Exclude unneeded columns\n",
    "    \n",
    "    # Start intially with adding in all possible features\n",
    "    x_string = \"\"\n",
    "    for column in x_columns:\n",
    "        x_string += column + \" + \"\n",
    "    x_string = x_string[:-2]\n",
    "    \n",
    "    patsy_string = \"status_score ~ \" + x_string\n",
    "    \n",
    "    \"\"\"Add quadratics where it makes sense (comment out those you don't want)\"\"\"\n",
    "    patsy_string = patsy_string.replace(\"user_rating_short\", \"np.power(user_rating_short, 2) + user_rating_short\")\n",
    "    # patsy_string = patsy_string.replace(\"runtime\", \"np.power(runtime, 2) + runtime\")\n",
    "    patsy_string = patsy_string.replace(\"critic_rating\", \"np.power(critic_rating, 2) + critic_rating\")\n",
    "    # patsy_string = patsy_string.replace(\"aspect_ratio\", \"np.power(aspect_ratio, 2) + aspect_ratio\")\n",
    "    patsy_string = patsy_string.replace(\"release_month\", \"np.power(release_month, 2) + release_month\")\n",
    "    # patsy_string = patsy_string.replace(\"release_day_in_year\", \"np.power(release_day_in_year, 2) + release_day_in_year\")\n",
    "    # patsy_string = patsy_string.replace(\"budget_USD_real\", \"np.power(budget_USD_real, 2) + budget_USD_real\")\n",
    "    # patsy_string = patsy_string.replace(\"opening_weekend_gross_USD_real\", \\\n",
    "    #                      \"np.power(opening_weekend_gross_USD_real, 2) + opening_weekend_gross_USD_real\")\n",
    "    \n",
    "    \"\"\"Remove feature / parameters you don't want (comment out those you actually to keep)\"\"\"\n",
    "    patsy_string = patsy_string.replace(\"runtime\", \"\")\n",
    "    # patsy_string = patsy_string.replace(\" + critic_rating\", \"\")\n",
    "    patsy_string = patsy_string.replace(\" + pg_rating\",\"\")\n",
    "    patsy_string = patsy_string.replace(\" + aspect_ratio\",\"\")\n",
    "    patsy_string = patsy_string.replace(\" + release_day_in_year\",\"\")\n",
    "    patsy_string = patsy_string.replace(\" + budget_USD_real\",\"\")\n",
    "    patsy_string = patsy_string.replace(\" + opening_weekend_gross_USD_real\",\"\")\n",
    "    \n",
    "    # Directors to remove\n",
    "    directors_to_remove = ['director_david_fincher', 'director_stanley_kubrick', 'director_ridley_scott', \n",
    "                           'director_woody_allen', 'director_paul_thomas_anderson', 'director_akira_kurosawa', \n",
    "                           'director_sergio_leone', 'director_charlie_chaplin', 'director_ingmar_bergman', \n",
    "                           'director_michael_mann', 'director_jean_luc_godard', 'director_george_lucas', \n",
    "                           'director_andrei_tarkovsky', 'director_sidney_lumet', 'director_elia_kazan', \n",
    "                           'director_werner_herzog', 'director_brian_de_palma', 'director_spike_jonze', \n",
    "                           'director_darren_aronofsky']\n",
    "    for director in directors_to_remove:\n",
    "        patsy_string = patsy_string.replace(\" + \" + director,\"\")\n",
    "    \n",
    "    # Stars to remove\n",
    "    stars_to_remove = ['starring_will_smith', 'starring_christian_bale', 'starring_robert_de_niro', \n",
    "                       'starring_morgan_freeman', 'starring_clint_eastwood', 'starring_matt_damon', \n",
    "                       'starring_dustin_hoffman', 'starring_marlon_brando', 'starring_harrison_ford', \n",
    "                       'starring_shah_rukh_khan', 'starring_gary_oldman', 'starring_laurence_olivier', \n",
    "                       'starring_bruce_willis', 'starring_sean_connery', 'starring_samuel_l_jackson', \n",
    "                       'starring_mark_wahlberg', 'starring_robert_duvall', 'starring_nicolas_cage', \n",
    "                       'starring_salman_khan', 'starring_amitabh_bachchan', 'starring_adam_sandler', \n",
    "                       'starring_aamir_khan', 'starring_natalie_portman', 'starring_angelina_jolie', \n",
    "                       'starring_charlize_theron', 'starring_nicole_kidman', 'starring_meryl_streep', \n",
    "                       'starring_jennifer_aniston', 'starring_anne_hathaway', 'starring_jessica_alba', \n",
    "                       'starring_megan_fox', 'starring_audrey_hepburn', 'starring_julianne_moore', \n",
    "                       'starring_julia_roberts', 'starring_amanda_seyfried', 'starring_kristen_stewart', \n",
    "                       'starring_marilyn_monroe', 'starring_ingrid_bergman', 'starring_kate_beckinsale', \n",
    "                       'starring_sophia_loren', 'starring_olivia_wilde', 'starring_marion_cotillard', \n",
    "                       'starring_bette_davis', 'starring_zooey_deschanel', 'starring_reese_witherspoon', \n",
    "                       'starring_emily_blunt', 'starring_cameron_diaz', 'starring_olivia_de_havilland', \n",
    "                       'starring_michelle_pfeiffer', 'starring_vivien_leigh', 'starring_halle_berry', \n",
    "                       'starring_jane_fonda', 'starring_amber_heard']\n",
    "    for star in stars_to_remove:\n",
    "        patsy_string = patsy_string.replace(\" + \" + star,\"\")\n",
    "    \n",
    "    \n",
    "    # Genres to remove\n",
    "    genres_to_remove = ['genre_action', 'genre_adventure', 'genre_comedy', 'genre_drama', 'genre_family', \n",
    "                        'genre_fantasy', 'genre_horror', 'genre_musical', 'genre_sport']\n",
    "    for genre in genres_to_remove:\n",
    "        patsy_string = patsy_string.replace(\" + \" + genre,\"\")\n",
    "    \n",
    "    # Writers to remove\n",
    "    writers_to_remove = ['writer_woody_allen', 'writer_stephen_king', 'writer_quentin_tarantino', \n",
    "                         'writer_truman_capote', 'writer_stanley_kubrick', 'writer_william_goldman', \n",
    "                         'writer_rob_reiner', 'writer_leonardo_dicaprio', 'writer_billy_wilder', \n",
    "                         'writer_will_ferrell', 'writer_jane_campion', 'writer_francis_ford_coppola', \n",
    "                         'writer_sam_raimi', 'writer_wes_craven', 'writer_hal_hartley', 'writer_paul_thomas_anderson',\n",
    "                         'writer_ridley_scott', 'writer_sidney_lumet', 'writer_alan_rudolph', 'writer_steve_martin', \n",
    "                         'writer_peter_jackson', 'writer_john_carpenter', 'writer_ingmar_bergman', \n",
    "                         'writer_stephen_frears', 'writer_william_s_burroughs', 'writer_seth_rogen', \n",
    "                         'writer_terry_rossio', 'writer_walt_disney', 'writer_martin_scorsese', \n",
    "                         'writer_alfred_hitchcock', 'writer_noah_baumbach', 'writer_robert_altman', \n",
    "                         'writer_peter_benchley', 'writer_brian_helgeland', 'writer_johnny_depp']\n",
    "    for writer in writers_to_remove:\n",
    "        patsy_string = patsy_string.replace(\" + \" + writer,\"\")\n",
    "    \n",
    "    # Languages to remove:\n",
    "    countries_to_remove = ['country_poland', 'country_austria', 'country_iran', 'country_turkey', 'country_sweden', \n",
    "                           'country_belgium', 'country_brazil', 'country_netherlands', 'country_australia', \n",
    "                           'country_china', 'country_south_korea', 'country_argentina', 'country_russia', \n",
    "                           'country_mexico', 'country_hong_kong', 'country_philippines', 'country_spain', \n",
    "                           'country_italy', 'country_germany', 'country_canada', 'country_uk', 'country_france', \n",
    "                           'country_japan', 'country_india']\n",
    "    for country in countries_to_remove:\n",
    "        patsy_string = patsy_string.replace(\" + \" + country,\"\")\n",
    "    \n",
    "    # Languages to remove:\n",
    "    languages_to_remove = ['language_indonesian', 'language_bengali', 'language_polish', 'language_swedish', \n",
    "                           'language_dutch', 'language_persian', 'language_turkish', 'language_tamil', \n",
    "                           'language_arabic', 'language_portuguese', 'language_telugu', 'language_malayalam', \n",
    "                           'language_korean', 'language_cantonese', 'language_mandarin', 'language_tagalog', \n",
    "                           'language_filipino', 'language_russian', 'language_italian', 'language_german', \n",
    "                           'language_hindi', 'language_french', 'language_japanese', 'language_spanish']\n",
    "    for language in languages_to_remove:\n",
    "        patsy_string = patsy_string.replace(\" + \" + language,\"\")\n",
    "    \n",
    "    # Colors to remove:\n",
    "    colors_to_remove = ['color_color', 'color_black_and_white']\n",
    "    for color in colors_to_remove:\n",
    "        patsy_string = patsy_string.replace(\" + \" + color,\"\")\n",
    "    \n",
    "    # Final feature sweep:\n",
    "    features_to_remove = ['director_steven_spielberg', 'director_david_lynch', 'director_tony_tarantino', \n",
    "                          'director_alejandro_gonzález_iñárritu', 'director_david_lean', 'director_alfonso_cuarón', \n",
    "                          'starring_tom_cruise', 'starring_liam_neeson', 'starring_hugh_jackman', \n",
    "                          'starring_humphrey_bogart', 'starring_emma_watson', 'starring_penélope_cruz', \n",
    "                          'starring_rachel_mcadams', 'starring_helen_mirren', 'starring_sigourney_weaver', \n",
    "                          'genre_history', 'genre_mystery', 'genre_sci_fi', 'writer_steven_spielberg', \n",
    "                          'writer_guillermo_del_toro', 'writer_michael_mann', 'director_oliver_stone', \n",
    "                          'starring_scarlett_johansson', 'genre_thriller', 'director_alfred_hitchcock', \n",
    "                          'director_orson_welles', 'director_william_wyler', 'director_john_ford', \n",
    "                          'director_federico_fellini', 'director_miloš_forman', 'director_frank_capra', \n",
    "                          'starring_katharine_hepburn', 'starring_robert_downey_jr', 'starring_jennifer_lawrence', \n",
    "                          'writer_christopher_nolan', 'writer_david_cronenberg', 'writer_roman_polanski', \n",
    "                          'director_christopher_nolan', 'director_roman_polanski', 'director_david_cronenberg', \n",
    "                          'starring_heath_ledger', 'starring_robin_williams', 'starring_grace_kelly', \n",
    "                          'director_hayao_miyazaki', 'starring_johnny_depp', 'director_wes_anderson', \n",
    "                          'director_steven_soderbergh', 'starring_george_clooney', 'starring_michael_caine', \n",
    "                          'starring_edward_norton', 'starring_emma_stone', 'writer_charlie_kaufman', \n",
    "                          'writer_wes_anderson', 'starring_jeff_bridges', 'genre_crime', 'writer_owen_wilson', \n",
    "                          'director_francis_ford_coppola', 'starring_kevin_spacey', 'starring_ryan_gosling', \n",
    "                          'starring_keanu_reeves', 'starring_kate_winslet', 'starring_naomi_watts', 'genre_music', \n",
    "                          'writer_david_mamet']\n",
    "    for feature in features_to_remove:\n",
    "        patsy_string = patsy_string.replace(\" + \" + feature,\"\")\n",
    "    \n",
    "    return patsy_string"
   ]
  },
  {
   "cell_type": "code",
   "execution_count": 13,
   "metadata": {
    "collapsed": true
   },
   "outputs": [],
   "source": [
    "def run_linear_regression(data, patsy_string):\n",
    "    \"\"\"\n",
    "    In:\n",
    "    data = Pandas dataframe of your training data (oversampled if needed)\n",
    "    patsy_string = Patsy regression formula string specifying the features of the regression model\n",
    "    \n",
    "    Out:\n",
    "    Returns linear regression model fit to your training data using the features specified\n",
    "    \"\"\"\n",
    "    return smf.ols(formula=patsy_string, data=data).fit()"
   ]
  },
  {
   "cell_type": "code",
   "execution_count": 14,
   "metadata": {
    "collapsed": true
   },
   "outputs": [],
   "source": [
    "def get_Y_Xs_for_testing(to_test_raw):\n",
    "    \"\"\"\n",
    "    In: \n",
    "    to_test_raw = Pandas dataframe of your test data\n",
    "    \n",
    "    Out:\n",
    "    Tuple of y, X where:\n",
    "        y = The dependent / to be predicted component of your test data\n",
    "        X = The indepdent variables / features of your data, used to predict y\n",
    "    \"\"\"\n",
    "    patsy_string = get_patsy_string(to_test_raw)\n",
    "    y, X = dmatrices(patsy_string, data=to_test_raw, return_type='dataframe')\n",
    "    return y, X"
   ]
  },
  {
   "cell_type": "code",
   "execution_count": 15,
   "metadata": {
    "collapsed": false
   },
   "outputs": [],
   "source": [
    "def test_regression(fit_model, test_data):\n",
    "    \"\"\"\n",
    "    In:\n",
    "    fit_model = The linear regression model you would like to test\n",
    "    test_data = Pandas dataframe of your test data\n",
    "    \n",
    "    Out:\n",
    "    Tuple of result, true_positives, false_positives, net where:\n",
    "        result = percentage of correct guesses by your model\n",
    "        true_positives = the number of correctly identified Best Picture nominees / winners\n",
    "        false_positives = the number of falsely identified Best Picture nominees / winners\n",
    "        net = true positives adjusted for the number of false positives\n",
    "    \"\"\"\n",
    "    test_Y, test_X = get_Y_Xs_for_testing(test_data)\n",
    "    \n",
    "    # Make predictions\n",
    "    predictions = [sum([coef * x for coef, x in zip(fit_model.params, row)]) for row in test_X.values.tolist()]\n",
    "    predictions = [y//5 if y > 0 else 0 for y in predictions]\n",
    "    \n",
    "    # Evaluate predictions\n",
    "    result = [1 if prediction == actual[0] else 0 for prediction, actual in zip(predictions, test_Y.values.tolist())]\n",
    "    result = sum(result) / len(result)  # Percentage correct\n",
    "    \n",
    "    # Check true / false positives\n",
    "    true_positives = sum([1 for prediction, actual in zip(predictions, test_Y.values.tolist()) \\\n",
    "                          if (prediction == actual[0] and actual[0] > 0)])\n",
    "    false_positives = sum([1 for prediction, actual in zip(predictions, test_Y.values.tolist()) \\\n",
    "                           if (prediction != actual[0] and prediction > 0) ])\n",
    "    net = true_positives - false_positives\n",
    "    \n",
    "    return result, true_positives, false_positives, net"
   ]
  },
  {
   "cell_type": "markdown",
   "metadata": {},
   "source": [
    "### Final Model"
   ]
  },
  {
   "cell_type": "code",
   "execution_count": 16,
   "metadata": {
    "collapsed": false
   },
   "outputs": [
    {
     "data": {
      "text/html": [
       "<table class=\"simpletable\">\n",
       "<caption>OLS Regression Results</caption>\n",
       "<tr>\n",
       "  <th>Dep. Variable:</th>      <td>status_score</td>   <th>  R-squared:         </th> <td>   0.248</td> \n",
       "</tr>\n",
       "<tr>\n",
       "  <th>Model:</th>                   <td>OLS</td>       <th>  Adj. R-squared:    </th> <td>   0.242</td> \n",
       "</tr>\n",
       "<tr>\n",
       "  <th>Method:</th>             <td>Least Squares</td>  <th>  F-statistic:       </th> <td>   37.83</td> \n",
       "</tr>\n",
       "<tr>\n",
       "  <th>Date:</th>             <td>Sun, 11 Oct 2015</td> <th>  Prob (F-statistic):</th>  <td>  0.00</td>  \n",
       "</tr>\n",
       "<tr>\n",
       "  <th>Time:</th>                 <td>21:23:28</td>     <th>  Log-Likelihood:    </th> <td> -6787.6</td> \n",
       "</tr>\n",
       "<tr>\n",
       "  <th>No. Observations:</th>      <td>  6129</td>      <th>  AIC:               </th> <td>1.368e+04</td>\n",
       "</tr>\n",
       "<tr>\n",
       "  <th>Df Residuals:</th>          <td>  6075</td>      <th>  BIC:               </th> <td>1.405e+04</td>\n",
       "</tr>\n",
       "<tr>\n",
       "  <th>Df Model:</th>              <td>    53</td>      <th>                     </th>     <td> </td>    \n",
       "</tr>\n",
       "<tr>\n",
       "  <th>Covariance Type:</th>      <td>nonrobust</td>    <th>                     </th>     <td> </td>    \n",
       "</tr>\n",
       "</table>\n",
       "<table class=\"simpletable\">\n",
       "<tr>\n",
       "                 <td></td>                    <th>coef</th>     <th>std err</th>      <th>t</th>      <th>P>|t|</th> <th>[95.0% Conf. Int.]</th> \n",
       "</tr>\n",
       "<tr>\n",
       "  <th>Intercept</th>                       <td>    1.9535</td> <td>    0.225</td> <td>    8.668</td> <td> 0.000</td> <td>    1.512     2.395</td>\n",
       "</tr>\n",
       "<tr>\n",
       "  <th>num_nominees[T.>5]</th>              <td>    0.0587</td> <td>    0.019</td> <td>    3.017</td> <td> 0.003</td> <td>    0.021     0.097</td>\n",
       "</tr>\n",
       "<tr>\n",
       "  <th>np.power(user_rating_short, 2)</th>  <td>    0.0580</td> <td>    0.007</td> <td>    8.540</td> <td> 0.000</td> <td>    0.045     0.071</td>\n",
       "</tr>\n",
       "<tr>\n",
       "  <th>user_rating_short</th>               <td>   -0.5997</td> <td>    0.081</td> <td>   -7.390</td> <td> 0.000</td> <td>   -0.759    -0.441</td>\n",
       "</tr>\n",
       "<tr>\n",
       "  <th>np.power(critic_rating, 2)</th>      <td>    0.0004</td> <td> 2.82e-05</td> <td>   13.499</td> <td> 0.000</td> <td>    0.000     0.000</td>\n",
       "</tr>\n",
       "<tr>\n",
       "  <th>critic_rating</th>                   <td>   -0.0340</td> <td>    0.003</td> <td>  -11.178</td> <td> 0.000</td> <td>   -0.040    -0.028</td>\n",
       "</tr>\n",
       "<tr>\n",
       "  <th>np.power(release_month, 2)</th>      <td>    0.0041</td> <td>    0.001</td> <td>    4.447</td> <td> 0.000</td> <td>    0.002     0.006</td>\n",
       "</tr>\n",
       "<tr>\n",
       "  <th>release_month</th>                   <td>   -0.0518</td> <td>    0.012</td> <td>   -4.224</td> <td> 0.000</td> <td>   -0.076    -0.028</td>\n",
       "</tr>\n",
       "<tr>\n",
       "  <th>director_martin_scorsese</th>        <td>    1.8264</td> <td>    0.248</td> <td>    7.358</td> <td> 0.000</td> <td>    1.340     2.313</td>\n",
       "</tr>\n",
       "<tr>\n",
       "  <th>director_quentin_tarantino</th>      <td>    1.1454</td> <td>    0.332</td> <td>    3.446</td> <td> 0.001</td> <td>    0.494     1.797</td>\n",
       "</tr>\n",
       "<tr>\n",
       "  <th>director_james_cameron</th>          <td>    1.6806</td> <td>    0.557</td> <td>    3.017</td> <td> 0.003</td> <td>    0.589     2.773</td>\n",
       "</tr>\n",
       "<tr>\n",
       "  <th>director_clint_eastwood</th>         <td>    1.0040</td> <td>    0.180</td> <td>    5.568</td> <td> 0.000</td> <td>    0.651     1.357</td>\n",
       "</tr>\n",
       "<tr>\n",
       "  <th>director_peter_jackson</th>          <td>    1.8330</td> <td>    0.302</td> <td>    6.063</td> <td> 0.000</td> <td>    1.240     2.426</td>\n",
       "</tr>\n",
       "<tr>\n",
       "  <th>director_tim_burton</th>             <td>   -0.6583</td> <td>    0.264</td> <td>   -2.496</td> <td> 0.013</td> <td>   -1.175    -0.141</td>\n",
       "</tr>\n",
       "<tr>\n",
       "  <th>director_joel_coen</th>              <td>    1.4391</td> <td>    0.215</td> <td>    6.696</td> <td> 0.000</td> <td>    1.018     1.860</td>\n",
       "</tr>\n",
       "<tr>\n",
       "  <th>director_ang_lee</th>                <td>    0.9702</td> <td>    0.279</td> <td>    3.471</td> <td> 0.001</td> <td>    0.422     1.518</td>\n",
       "</tr>\n",
       "<tr>\n",
       "  <th>director_terrence_malick</th>        <td>    3.7784</td> <td>    0.563</td> <td>    6.717</td> <td> 0.000</td> <td>    2.676     4.881</td>\n",
       "</tr>\n",
       "<tr>\n",
       "  <th>director_sam_mendes</th>             <td>    1.5685</td> <td>    0.373</td> <td>    4.200</td> <td> 0.000</td> <td>    0.836     2.301</td>\n",
       "</tr>\n",
       "<tr>\n",
       "  <th>director_frank_darabont</th>         <td>    2.2602</td> <td>    0.430</td> <td>    5.251</td> <td> 0.000</td> <td>    1.416     3.104</td>\n",
       "</tr>\n",
       "<tr>\n",
       "  <th>starring_leonardo_dicaprio</th>      <td>    0.5070</td> <td>    0.187</td> <td>    2.705</td> <td> 0.007</td> <td>    0.140     0.874</td>\n",
       "</tr>\n",
       "<tr>\n",
       "  <th>starring_brad_pitt</th>              <td>    0.3395</td> <td>    0.152</td> <td>    2.235</td> <td> 0.025</td> <td>    0.042     0.637</td>\n",
       "</tr>\n",
       "<tr>\n",
       "  <th>starring_tom_hanks</th>              <td>    1.1828</td> <td>    0.165</td> <td>    7.185</td> <td> 0.000</td> <td>    0.860     1.506</td>\n",
       "</tr>\n",
       "<tr>\n",
       "  <th>starring_jack_nicholson</th>         <td>    1.4047</td> <td>    0.225</td> <td>    6.242</td> <td> 0.000</td> <td>    0.964     1.846</td>\n",
       "</tr>\n",
       "<tr>\n",
       "  <th>starring_denzel_washington</th>      <td>   -0.3929</td> <td>    0.160</td> <td>   -2.463</td> <td> 0.014</td> <td>   -0.706    -0.080</td>\n",
       "</tr>\n",
       "<tr>\n",
       "  <th>starring_al_pacino</th>              <td>    0.5387</td> <td>    0.174</td> <td>    3.089</td> <td> 0.002</td> <td>    0.197     0.881</td>\n",
       "</tr>\n",
       "<tr>\n",
       "  <th>starring_daniel_day_lewis</th>       <td>    0.9476</td> <td>    0.334</td> <td>    2.836</td> <td> 0.005</td> <td>    0.293     1.603</td>\n",
       "</tr>\n",
       "<tr>\n",
       "  <th>starring_russell_crowe</th>          <td>    0.9586</td> <td>    0.171</td> <td>    5.594</td> <td> 0.000</td> <td>    0.623     1.295</td>\n",
       "</tr>\n",
       "<tr>\n",
       "  <th>starring_anthony_hopkins</th>        <td>    0.3365</td> <td>    0.152</td> <td>    2.214</td> <td> 0.027</td> <td>    0.039     0.634</td>\n",
       "</tr>\n",
       "<tr>\n",
       "  <th>starring_sean_penn</th>              <td>    0.3963</td> <td>    0.198</td> <td>    2.006</td> <td> 0.045</td> <td>    0.009     0.784</td>\n",
       "</tr>\n",
       "<tr>\n",
       "  <th>starring_ralph_fiennes</th>          <td>    0.8968</td> <td>    0.166</td> <td>    5.405</td> <td> 0.000</td> <td>    0.572     1.222</td>\n",
       "</tr>\n",
       "<tr>\n",
       "  <th>starring_mel_gibson</th>             <td>    0.3966</td> <td>    0.170</td> <td>    2.328</td> <td> 0.020</td> <td>    0.063     0.731</td>\n",
       "</tr>\n",
       "<tr>\n",
       "  <th>starring_philip_seymour_hoffman</th> <td>   -0.4259</td> <td>    0.175</td> <td>   -2.436</td> <td> 0.015</td> <td>   -0.769    -0.083</td>\n",
       "</tr>\n",
       "<tr>\n",
       "  <th>starring_javier_bardem</th>          <td>    0.5637</td> <td>    0.223</td> <td>    2.525</td> <td> 0.012</td> <td>    0.126     1.001</td>\n",
       "</tr>\n",
       "<tr>\n",
       "  <th>starring_mila_kunis</th>             <td>    0.7260</td> <td>    0.302</td> <td>    2.404</td> <td> 0.016</td> <td>    0.134     1.318</td>\n",
       "</tr>\n",
       "<tr>\n",
       "  <th>starring_sandra_bullock</th>         <td>    0.5343</td> <td>    0.154</td> <td>    3.467</td> <td> 0.001</td> <td>    0.232     0.836</td>\n",
       "</tr>\n",
       "<tr>\n",
       "  <th>starring_keira_knightley</th>        <td>    0.3782</td> <td>    0.191</td> <td>    1.978</td> <td> 0.048</td> <td>    0.003     0.753</td>\n",
       "</tr>\n",
       "<tr>\n",
       "  <th>starring_cate_blanchett</th>         <td>    0.3768</td> <td>    0.166</td> <td>    2.266</td> <td> 0.023</td> <td>    0.051     0.703</td>\n",
       "</tr>\n",
       "<tr>\n",
       "  <th>starring_amy_adams</th>              <td>    0.7095</td> <td>    0.201</td> <td>    3.530</td> <td> 0.000</td> <td>    0.315     1.104</td>\n",
       "</tr>\n",
       "<tr>\n",
       "  <th>starring_jodie_foster</th>           <td>    0.7690</td> <td>    0.235</td> <td>    3.277</td> <td> 0.001</td> <td>    0.309     1.229</td>\n",
       "</tr>\n",
       "<tr>\n",
       "  <th>starring_ellen_page</th>             <td>    1.0119</td> <td>    0.262</td> <td>    3.869</td> <td> 0.000</td> <td>    0.499     1.525</td>\n",
       "</tr>\n",
       "<tr>\n",
       "  <th>starring_gwyneth_paltrow</th>        <td>    0.3598</td> <td>    0.165</td> <td>    2.178</td> <td> 0.029</td> <td>    0.036     0.684</td>\n",
       "</tr>\n",
       "<tr>\n",
       "  <th>genre_animation</th>                 <td>   -0.1543</td> <td>    0.052</td> <td>   -2.959</td> <td> 0.003</td> <td>   -0.256    -0.052</td>\n",
       "</tr>\n",
       "<tr>\n",
       "  <th>genre_biography</th>                 <td>    0.1513</td> <td>    0.043</td> <td>    3.521</td> <td> 0.000</td> <td>    0.067     0.235</td>\n",
       "</tr>\n",
       "<tr>\n",
       "  <th>genre_romance</th>                   <td>    0.0474</td> <td>    0.023</td> <td>    2.062</td> <td> 0.039</td> <td>    0.002     0.093</td>\n",
       "</tr>\n",
       "<tr>\n",
       "  <th>genre_war</th>                       <td>    0.1235</td> <td>    0.053</td> <td>    2.336</td> <td> 0.020</td> <td>    0.020     0.227</td>\n",
       "</tr>\n",
       "<tr>\n",
       "  <th>genre_western</th>                   <td>    0.2617</td> <td>    0.104</td> <td>    2.511</td> <td> 0.012</td> <td>    0.057     0.466</td>\n",
       "</tr>\n",
       "<tr>\n",
       "  <th>writer_spike_jonze</th>              <td>    0.9292</td> <td>    0.430</td> <td>    2.159</td> <td> 0.031</td> <td>    0.085     1.773</td>\n",
       "</tr>\n",
       "<tr>\n",
       "  <th>writer_james_cameron</th>            <td>    1.7867</td> <td>    0.557</td> <td>    3.208</td> <td> 0.001</td> <td>    0.695     2.878</td>\n",
       "</tr>\n",
       "<tr>\n",
       "  <th>writer_m_night_shyamalan</th>        <td>    0.5062</td> <td>    0.246</td> <td>    2.055</td> <td> 0.040</td> <td>    0.023     0.989</td>\n",
       "</tr>\n",
       "<tr>\n",
       "  <th>writer_jason_reitman</th>            <td>    1.3376</td> <td>    0.425</td> <td>    3.144</td> <td> 0.002</td> <td>    0.504     2.171</td>\n",
       "</tr>\n",
       "<tr>\n",
       "  <th>writer_ben_affleck</th>              <td>    1.1223</td> <td>    0.426</td> <td>    2.636</td> <td> 0.008</td> <td>    0.288     1.957</td>\n",
       "</tr>\n",
       "<tr>\n",
       "  <th>writer_oliver_stone</th>             <td>    2.0386</td> <td>    0.521</td> <td>    3.912</td> <td> 0.000</td> <td>    1.017     3.060</td>\n",
       "</tr>\n",
       "<tr>\n",
       "  <th>country_usa</th>                     <td>    0.1383</td> <td>    0.027</td> <td>    5.173</td> <td> 0.000</td> <td>    0.086     0.191</td>\n",
       "</tr>\n",
       "<tr>\n",
       "  <th>language_english</th>                <td>    0.1253</td> <td>    0.033</td> <td>    3.760</td> <td> 0.000</td> <td>    0.060     0.191</td>\n",
       "</tr>\n",
       "</table>\n",
       "<table class=\"simpletable\">\n",
       "<tr>\n",
       "  <th>Omnibus:</th>       <td>7271.457</td> <th>  Durbin-Watson:     </th>  <td>   1.976</td> \n",
       "</tr>\n",
       "<tr>\n",
       "  <th>Prob(Omnibus):</th>  <td> 0.000</td>  <th>  Jarque-Bera (JB):  </th> <td>995034.245</td>\n",
       "</tr>\n",
       "<tr>\n",
       "  <th>Skew:</th>           <td> 6.252</td>  <th>  Prob(JB):          </th>  <td>    0.00</td> \n",
       "</tr>\n",
       "<tr>\n",
       "  <th>Kurtosis:</th>       <td>64.156</td>  <th>  Cond. No.          </th>  <td>2.90e+05</td> \n",
       "</tr>\n",
       "</table>"
      ],
      "text/plain": [
       "<class 'statsmodels.iolib.summary.Summary'>\n",
       "\"\"\"\n",
       "                            OLS Regression Results                            \n",
       "==============================================================================\n",
       "Dep. Variable:           status_score   R-squared:                       0.248\n",
       "Model:                            OLS   Adj. R-squared:                  0.242\n",
       "Method:                 Least Squares   F-statistic:                     37.83\n",
       "Date:                Sun, 11 Oct 2015   Prob (F-statistic):               0.00\n",
       "Time:                        21:23:28   Log-Likelihood:                -6787.6\n",
       "No. Observations:                6129   AIC:                         1.368e+04\n",
       "Df Residuals:                    6075   BIC:                         1.405e+04\n",
       "Df Model:                          53                                         \n",
       "Covariance Type:            nonrobust                                         \n",
       "===================================================================================================\n",
       "                                      coef    std err          t      P>|t|      [95.0% Conf. Int.]\n",
       "---------------------------------------------------------------------------------------------------\n",
       "Intercept                           1.9535      0.225      8.668      0.000         1.512     2.395\n",
       "num_nominees[T.>5]                  0.0587      0.019      3.017      0.003         0.021     0.097\n",
       "np.power(user_rating_short, 2)      0.0580      0.007      8.540      0.000         0.045     0.071\n",
       "user_rating_short                  -0.5997      0.081     -7.390      0.000        -0.759    -0.441\n",
       "np.power(critic_rating, 2)          0.0004   2.82e-05     13.499      0.000         0.000     0.000\n",
       "critic_rating                      -0.0340      0.003    -11.178      0.000        -0.040    -0.028\n",
       "np.power(release_month, 2)          0.0041      0.001      4.447      0.000         0.002     0.006\n",
       "release_month                      -0.0518      0.012     -4.224      0.000        -0.076    -0.028\n",
       "director_martin_scorsese            1.8264      0.248      7.358      0.000         1.340     2.313\n",
       "director_quentin_tarantino          1.1454      0.332      3.446      0.001         0.494     1.797\n",
       "director_james_cameron              1.6806      0.557      3.017      0.003         0.589     2.773\n",
       "director_clint_eastwood             1.0040      0.180      5.568      0.000         0.651     1.357\n",
       "director_peter_jackson              1.8330      0.302      6.063      0.000         1.240     2.426\n",
       "director_tim_burton                -0.6583      0.264     -2.496      0.013        -1.175    -0.141\n",
       "director_joel_coen                  1.4391      0.215      6.696      0.000         1.018     1.860\n",
       "director_ang_lee                    0.9702      0.279      3.471      0.001         0.422     1.518\n",
       "director_terrence_malick            3.7784      0.563      6.717      0.000         2.676     4.881\n",
       "director_sam_mendes                 1.5685      0.373      4.200      0.000         0.836     2.301\n",
       "director_frank_darabont             2.2602      0.430      5.251      0.000         1.416     3.104\n",
       "starring_leonardo_dicaprio          0.5070      0.187      2.705      0.007         0.140     0.874\n",
       "starring_brad_pitt                  0.3395      0.152      2.235      0.025         0.042     0.637\n",
       "starring_tom_hanks                  1.1828      0.165      7.185      0.000         0.860     1.506\n",
       "starring_jack_nicholson             1.4047      0.225      6.242      0.000         0.964     1.846\n",
       "starring_denzel_washington         -0.3929      0.160     -2.463      0.014        -0.706    -0.080\n",
       "starring_al_pacino                  0.5387      0.174      3.089      0.002         0.197     0.881\n",
       "starring_daniel_day_lewis           0.9476      0.334      2.836      0.005         0.293     1.603\n",
       "starring_russell_crowe              0.9586      0.171      5.594      0.000         0.623     1.295\n",
       "starring_anthony_hopkins            0.3365      0.152      2.214      0.027         0.039     0.634\n",
       "starring_sean_penn                  0.3963      0.198      2.006      0.045         0.009     0.784\n",
       "starring_ralph_fiennes              0.8968      0.166      5.405      0.000         0.572     1.222\n",
       "starring_mel_gibson                 0.3966      0.170      2.328      0.020         0.063     0.731\n",
       "starring_philip_seymour_hoffman    -0.4259      0.175     -2.436      0.015        -0.769    -0.083\n",
       "starring_javier_bardem              0.5637      0.223      2.525      0.012         0.126     1.001\n",
       "starring_mila_kunis                 0.7260      0.302      2.404      0.016         0.134     1.318\n",
       "starring_sandra_bullock             0.5343      0.154      3.467      0.001         0.232     0.836\n",
       "starring_keira_knightley            0.3782      0.191      1.978      0.048         0.003     0.753\n",
       "starring_cate_blanchett             0.3768      0.166      2.266      0.023         0.051     0.703\n",
       "starring_amy_adams                  0.7095      0.201      3.530      0.000         0.315     1.104\n",
       "starring_jodie_foster               0.7690      0.235      3.277      0.001         0.309     1.229\n",
       "starring_ellen_page                 1.0119      0.262      3.869      0.000         0.499     1.525\n",
       "starring_gwyneth_paltrow            0.3598      0.165      2.178      0.029         0.036     0.684\n",
       "genre_animation                    -0.1543      0.052     -2.959      0.003        -0.256    -0.052\n",
       "genre_biography                     0.1513      0.043      3.521      0.000         0.067     0.235\n",
       "genre_romance                       0.0474      0.023      2.062      0.039         0.002     0.093\n",
       "genre_war                           0.1235      0.053      2.336      0.020         0.020     0.227\n",
       "genre_western                       0.2617      0.104      2.511      0.012         0.057     0.466\n",
       "writer_spike_jonze                  0.9292      0.430      2.159      0.031         0.085     1.773\n",
       "writer_james_cameron                1.7867      0.557      3.208      0.001         0.695     2.878\n",
       "writer_m_night_shyamalan            0.5062      0.246      2.055      0.040         0.023     0.989\n",
       "writer_jason_reitman                1.3376      0.425      3.144      0.002         0.504     2.171\n",
       "writer_ben_affleck                  1.1223      0.426      2.636      0.008         0.288     1.957\n",
       "writer_oliver_stone                 2.0386      0.521      3.912      0.000         1.017     3.060\n",
       "country_usa                         0.1383      0.027      5.173      0.000         0.086     0.191\n",
       "language_english                    0.1253      0.033      3.760      0.000         0.060     0.191\n",
       "==============================================================================\n",
       "Omnibus:                     7271.457   Durbin-Watson:                   1.976\n",
       "Prob(Omnibus):                  0.000   Jarque-Bera (JB):           995034.245\n",
       "Skew:                           6.252   Prob(JB):                         0.00\n",
       "Kurtosis:                      64.156   Cond. No.                     2.90e+05\n",
       "==============================================================================\n",
       "\n",
       "Warnings:\n",
       "[1] Standard Errors assume that the covariance matrix of the errors is correctly specified.\n",
       "[2] The condition number is large, 2.9e+05. This might indicate that there are\n",
       "strong multicollinearity or other numerical problems.\n",
       "\"\"\""
      ]
     },
     "execution_count": 16,
     "metadata": {},
     "output_type": "execute_result"
    }
   ],
   "source": [
    "model = run_linear_regression(to_train_raw, get_patsy_string(to_train_raw))\n",
    "model.summary()"
   ]
  },
  {
   "cell_type": "code",
   "execution_count": 18,
   "metadata": {
    "collapsed": false
   },
   "outputs": [
    {
     "name": "stdout",
     "output_type": "stream",
     "text": [
      "Accuracy: 0.9840484048404841\n",
      "True Positives: 0\n",
      "False Positives: 0\n",
      "Net: 0\n"
     ]
    }
   ],
   "source": [
    "result, true_positives, false_positives, net = test_regression(model, to_test_raw)\n",
    "print(\"Accuracy: \" + str(result))\n",
    "print(\"True Positives: \" + str(true_positives))\n",
    "print(\"False Positives: \" + str(false_positives))\n",
    "print(\"Net: \" + str(net))"
   ]
  },
  {
   "cell_type": "markdown",
   "metadata": {},
   "source": [
    " "
   ]
  },
  {
   "cell_type": "markdown",
   "metadata": {},
   "source": [
    "### Early Exploratory Plots"
   ]
  },
  {
   "cell_type": "code",
   "execution_count": 369,
   "metadata": {
    "collapsed": false
   },
   "outputs": [
    {
     "data": {
      "text/plain": [
       "<matplotlib.axes._subplots.AxesSubplot at 0x1e8a529e8>"
      ]
     },
     "execution_count": 369,
     "metadata": {},
     "output_type": "execute_result"
    },
    {
     "data": {
      "image/png": "[encoded data removed]",
      "text/plain": [
       "<matplotlib.figure.Figure at 0x1e8a4c278>"
      ]
     },
     "metadata": {},
     "output_type": "display_data"
    }
   ],
   "source": [
    "to_train_raw.plot(kind=\"scatter\", x=\"user_rating_short\", y=\"status_score\")"
   ]
  },
  {
   "cell_type": "code",
   "execution_count": 370,
   "metadata": {
    "collapsed": false
   },
   "outputs": [
    {
     "data": {
      "text/plain": [
       "<matplotlib.axes._subplots.AxesSubplot at 0x1f120bf28>"
      ]
     },
     "execution_count": 370,
     "metadata": {},
     "output_type": "execute_result"
    },
    {
     "data": {
      "image/png": "[encoded data removed]",
      "text/plain": [
       "<matplotlib.figure.Figure at 0x1e2dd6e48>"
      ]
     },
     "metadata": {},
     "output_type": "display_data"
    }
   ],
   "source": [
    "to_train_raw.plot(kind=\"scatter\", x=\"critic_rating\", y=\"status_score\")"
   ]
  },
  {
   "cell_type": "code",
   "execution_count": 371,
   "metadata": {
    "collapsed": false
   },
   "outputs": [
    {
     "data": {
      "text/plain": [
       "<matplotlib.axes._subplots.AxesSubplot at 0x1e2e18860>"
      ]
     },
     "execution_count": 371,
     "metadata": {},
     "output_type": "execute_result"
    },
    {
     "data": {
      "image/png": "[encoded data removed]",
      "text/plain": [
       "<matplotlib.figure.Figure at 0x1e2e3d128>"
      ]
     },
     "metadata": {},
     "output_type": "display_data"
    }
   ],
   "source": [
    "to_train_raw.plot(kind=\"scatter\", x=\"runtime\", y=\"status_score\")"
   ]
  },
  {
   "cell_type": "code",
   "execution_count": 372,
   "metadata": {
    "collapsed": false
   },
   "outputs": [
    {
     "data": {
      "text/plain": [
       "<matplotlib.axes._subplots.AxesSubplot at 0x1e2da6160>"
      ]
     },
     "execution_count": 372,
     "metadata": {},
     "output_type": "execute_result"
    },
    {
     "data": {
      "image/png": "[encoded data removed]",
      "text/plain": [
       "<matplotlib.figure.Figure at 0x1e2b955c0>"
      ]
     },
     "metadata": {},
     "output_type": "display_data"
    }
   ],
   "source": [
    "to_train_raw.plot(kind=\"scatter\", x=\"release_month\", y=\"status_score\")"
   ]
  },
  {
   "cell_type": "code",
   "execution_count": 373,
   "metadata": {
    "collapsed": false
   },
   "outputs": [
    {
     "data": {
      "text/plain": [
       "<matplotlib.axes._subplots.AxesSubplot at 0x1e2bf5748>"
      ]
     },
     "execution_count": 373,
     "metadata": {},
     "output_type": "execute_result"
    },
    {
     "data": {
      "image/png": "[encoded data removed]",
      "text/plain": [
       "<matplotlib.figure.Figure at 0x1e29c3b38>"
      ]
     },
     "metadata": {},
     "output_type": "display_data"
    }
   ],
   "source": [
    "to_train_raw.plot(kind=\"scatter\", x=\"release_day_in_year\", y=\"status_score\")"
   ]
  },
  {
   "cell_type": "code",
   "execution_count": 374,
   "metadata": {
    "collapsed": false
   },
   "outputs": [
    {
     "data": {
      "text/plain": [
       "<matplotlib.axes._subplots.AxesSubplot at 0x1e2b33cf8>"
      ]
     },
     "execution_count": 374,
     "metadata": {},
     "output_type": "execute_result"
    },
    {
     "data": {
      "image/png": "[encoded data removed]",
      "text/plain": [
       "<matplotlib.figure.Figure at 0x1e2900160>"
      ]
     },
     "metadata": {},
     "output_type": "display_data"
    }
   ],
   "source": [
    "to_train_raw.plot(kind=\"scatter\", x=\"budget_USD_real\", y=\"status_score\")"
   ]
  },
  {
   "cell_type": "code",
   "execution_count": 375,
   "metadata": {
    "collapsed": false
   },
   "outputs": [
    {
     "data": {
      "text/plain": [
       "<matplotlib.axes._subplots.AxesSubplot at 0x1e2846f98>"
      ]
     },
     "execution_count": 375,
     "metadata": {},
     "output_type": "execute_result"
    },
    {
     "data": {
      "image/png": "[encoded data removed]",
      "text/plain": [
       "<matplotlib.figure.Figure at 0x1e2832400>"
      ]
     },
     "metadata": {},
     "output_type": "display_data"
    }
   ],
   "source": [
    "to_train_raw.plot(kind=\"scatter\", x=\"opening_weekend_gross_USD_real\", y=\"status_score\")"
   ]
  },
  {
   "cell_type": "code",
   "execution_count": 376,
   "metadata": {
    "collapsed": false
   },
   "outputs": [
    {
     "data": {
      "text/plain": [
       "<matplotlib.axes._subplots.AxesSubplot at 0x1e29f5f60>"
      ]
     },
     "execution_count": 376,
     "metadata": {},
     "output_type": "execute_result"
    },
    {
     "data": {
      "image/png": "[encoded data removed]",
      "text/plain": [
       "<matplotlib.figure.Figure at 0x1e28a1b70>"
      ]
     },
     "metadata": {},
     "output_type": "display_data"
    }
   ],
   "source": [
    "to_train_raw.plot(kind=\"scatter\", x=\"aspect_ratio\", y=\"status_score\")"
   ]
  },
  {
   "cell_type": "code",
   "execution_count": 377,
   "metadata": {
    "collapsed": false
   },
   "outputs": [
    {
     "data": {
      "image/png": "[encoded data removed]",
      "text/plain": [
       "<matplotlib.figure.Figure at 0x1e26cd160>"
      ]
     },
     "metadata": {},
     "output_type": "display_data"
    }
   ],
   "source": [
    "def plot_boolean(param, n):\n",
    "    \"\"\"\n",
    "    In:\n",
    "    param = Boolean parameter to plot\n",
    "    n = Subplot number\n",
    "    \n",
    "    Out:\n",
    "    Subplot of desired boolean parameter\n",
    "    \"\"\"\n",
    "    grouped = to_train_raw.groupby(param)\n",
    "    to_plot = grouped[\"status_score\"].mean()\n",
    "    to_plot.plot(kind=\"bar\", ylim=(-1,10), ax=axes[n], figsize=(20, 5))\n",
    "    \n",
    "fig, axes = plt.subplots(nrows=1, ncols=6)\n",
    "plot_boolean(\"director_martin_scorsese\", 0)\n",
    "plot_boolean(\"director_george_lucas\", 1)\n",
    "plot_boolean(\"starring_daniel_day_lewis\", 2)\n",
    "plot_boolean(\"starring_ryan_gosling\", 3)\n",
    "plot_boolean(\"starring_amy_adams\", 4)\n",
    "plot_boolean(\"starring_kristen_stewart\", 5)"
   ]
  },
  {
   "cell_type": "code",
   "execution_count": null,
   "metadata": {
    "collapsed": true
   },
   "outputs": [],
   "source": []
  }
 ],
 "metadata": {
  "kernelspec": {
   "display_name": "Python 3",
   "language": "python",
   "name": "python3"
  },
  "language_info": {
   "codemirror_mode": {
    "name": "ipython",
    "version": 3
   },
   "file_extension": ".py",
   "mimetype": "text/x-python",
   "name": "python",
   "nbconvert_exporter": "python",
   "pygments_lexer": "ipython3",
   "version": "3.4.3"
  }
 },
 "nbformat": 4,
 "nbformat_minor": 0
}

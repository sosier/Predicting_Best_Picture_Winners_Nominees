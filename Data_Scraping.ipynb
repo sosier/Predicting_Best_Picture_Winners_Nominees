{
 "cells": [
  {
   "cell_type": "markdown",
   "metadata": {},
   "source": [
    "# Predicting Best Picture Winners & Nominees\n",
    "*An Analysis by Sean Osier*"
   ]
  },
  {
   "cell_type": "markdown",
   "metadata": {},
   "source": [
    "### Data Scraping with Beautiful Soup"
   ]
  },
  {
   "cell_type": "code",
   "execution_count": 514,
   "metadata": {
    "collapsed": true
   },
   "outputs": [],
   "source": [
    "# Import Dependencies\n",
    "import pickle\n",
    "import requests\n",
    "from bs4 import BeautifulSoup\n",
    "import pandas as pd\n",
    "import numpy as np\n",
    "import re\n",
    "\n",
    "# import csv\n",
    "# from collections import defaultdict\n",
    "# import dateutil.parser\n",
    "\n",
    "\n",
    "# For display\n",
    "import pprint\n",
    "import matplotlib.pyplot as plt\n",
    "%matplotlib inline"
   ]
  },
  {
   "cell_type": "code",
   "execution_count": 524,
   "metadata": {
    "collapsed": false
   },
   "outputs": [],
   "source": [
    "# Pickling functions\n",
    "def pickle_it(data, filename, python_version=3):\n",
    "    with open(filename, \"wb\") as picklefile:\n",
    "        pickle.dump(data, picklefile, protocol=python_version)\n",
    "\n",
    "def load_pickle(filename):\n",
    "    with open(filename, \"rb\") as picklefile: \n",
    "        return pickle.load(picklefile)"
   ]
  },
  {
   "cell_type": "code",
   "execution_count": 720,
   "metadata": {
    "collapsed": true
   },
   "outputs": [],
   "source": [
    "def get_HTML(url):\n",
    "    response = requests.get(url)\n",
    "    assert (response.status_code >= 200) and (response.status_code < 300)\n",
    "    html = response.text\n",
    "    html = BeautifulSoup(html, \"lxml\")\n",
    "    return html"
   ]
  },
  {
   "cell_type": "code",
   "execution_count": 230,
   "metadata": {
    "collapsed": false
   },
   "outputs": [],
   "source": [
    "def get_num_movies_in_year(html):\n",
    "    wordy_num_movies = html.find(id=\"left\").text\n",
    "    num_movies = int(wordy_num_movies.split()[2].replace(\",\",\"\"))\n",
    "    return num_movies"
   ]
  },
  {
   "cell_type": "code",
   "execution_count": 257,
   "metadata": {
    "collapsed": false
   },
   "outputs": [],
   "source": [
    "def scrape_year_page(html):\n",
    "    results_table = html.find(class_=\"results\")\n",
    "    even_trs = results_table.find_all(class_=\"even detailed\")\n",
    "    odd_trs = results_table.find_all(class_=\"odd detailed\")\n",
    "    trs = even_trs + odd_trs\n",
    "    tds = []\n",
    "    for tr in trs:\n",
    "        tds += tr.find_all(class_=\"title\")\n",
    "\n",
    "    movie_data = []\n",
    "    for td in tds:\n",
    "        title = td.find(\"a\").text\n",
    "        year = td.find(class_=\"year_type\").text\n",
    "        link = td.find(\"a\")[\"href\"]\n",
    "        try:\n",
    "            user_rating_long = td.find(class_=\"rating rating-list\")[\"title\"]\n",
    "        except:\n",
    "            user_rating_long = \"\"\n",
    "        try:\n",
    "            user_rating_short = td.find(class_=\"value\").text\n",
    "        except:\n",
    "            user_rating_short = \"\"\n",
    "        try:\n",
    "            outline = td.find(class_=\"outline\").text\n",
    "        except:\n",
    "            outline = \"\"\n",
    "\n",
    "        try:\n",
    "            credits = td.find(class_=\"credit\").text\n",
    "            credits = credits[1:-1].strip().split(\"\\n\")\n",
    "        except:\n",
    "            credits = \"\"    \n",
    "        try:\n",
    "            director = credits[0][5:]\n",
    "        except:\n",
    "            director = \"\"\n",
    "        try:\n",
    "            starring = credits[1].strip()[6:]\n",
    "        except:\n",
    "            starring = \"\"\n",
    "\n",
    "        try:\n",
    "            genre = td.find(class_=\"genre\").text\n",
    "        except:\n",
    "            genre = \"\"\n",
    "        \n",
    "        try:\n",
    "            pg_rating = td.find(class_=\"certificate\").find(\"span\")[\"title\"]\n",
    "        except:\n",
    "            pg_rating = \"\"\n",
    "        \n",
    "        try:\n",
    "            runtime = td.find(class_=\"runtime\").text\n",
    "        except:\n",
    "            runtime = \"\"\n",
    "\n",
    "        movie_data.append([title, year, link, user_rating_long, user_rating_short,\n",
    "                           outline, director, starring, genre, pg_rating, runtime])\n",
    "\n",
    "    return movie_data"
   ]
  },
  {
   "cell_type": "code",
   "execution_count": 258,
   "metadata": {
    "collapsed": false,
    "scrolled": false
   },
   "outputs": [],
   "source": [
    "def scrape_IMBD_movie_list(start_year, end_year):\n",
    "    years = range(start_year, end_year + 1)\n",
    "    movie_data = []\n",
    "\n",
    "    for year in years:\n",
    "        current_n = 1\n",
    "        url = \"http://www.imdb.com/search/title?sort=moviemeter,asc&start=%s&title_type=feature&year=%s,%s\" \\\n",
    "            % (str(current_n), str(year), str(year))\n",
    "        html = get_HTML(url)\n",
    "        num_movies = get_num_movies_in_year(html)\n",
    "        movie_data += scrape_year_page(html)\n",
    "        current_n += 50\n",
    "\n",
    "        while current_n <= num_movies:\n",
    "            url = \"http://www.imdb.com/search/title?sort=moviemeter,asc&start=%s&title_type=feature&year=%s,%s\" \\\n",
    "                % (str(current_n), str(year), str(year))\n",
    "            html = get_HTML(url)\n",
    "            movie_data += scrape_year_page(html)\n",
    "            current_n += 50\n",
    "            \n",
    "    return movie_data"
   ]
  },
  {
   "cell_type": "code",
   "execution_count": null,
   "metadata": {
    "collapsed": false,
    "scrolled": false
   },
   "outputs": [],
   "source": [
    "# movie_data = scrape_IMBD_movie_list(1990, 2014)"
   ]
  },
  {
   "cell_type": "code",
   "execution_count": 523,
   "metadata": {
    "collapsed": false
   },
   "outputs": [
    {
     "data": {
      "text/plain": [
       "120910"
      ]
     },
     "execution_count": 523,
     "metadata": {},
     "output_type": "execute_result"
    }
   ],
   "source": [
    "# old_data = load_pickle(\"movie_data.pkl\")\n",
    "# len(old_data)"
   ]
  },
  {
   "cell_type": "code",
   "execution_count": 525,
   "metadata": {
    "collapsed": false
   },
   "outputs": [
    {
     "data": {
      "text/plain": [
       "120910"
      ]
     },
     "execution_count": 525,
     "metadata": {},
     "output_type": "execute_result"
    }
   ],
   "source": [
    "# movie_data += old_data\n",
    "len(movie_data)"
   ]
  },
  {
   "cell_type": "code",
   "execution_count": 529,
   "metadata": {
    "collapsed": false
   },
   "outputs": [
    {
     "name": "stdout",
     "output_type": "stream",
     "text": [
      "Data_Scraping.ipynb      movie_data_py2.pkl       test.pkl\r\n",
      "movie_data.pkl           nominees_and_winners.pkl\r\n"
     ]
    }
   ],
   "source": [
    "# pickle_it(movie_data, \"movie_data.pkl\")\n",
    "!ls"
   ]
  },
  {
   "cell_type": "code",
   "execution_count": 359,
   "metadata": {
    "collapsed": false
   },
   "outputs": [],
   "source": [
    "def scrape_wiki_best_pic_page(html):\n",
    "    nominee_tables = html.find_all(class_=\"wikitable\")\n",
    "    nominee_data = []\n",
    "    \n",
    "    for table in nominee_tables:\n",
    "        year = table.find(\"caption\").find(\"big\").find(\"a\").text\n",
    "        trs = table.find_all(\"tr\")    \n",
    "        trs = trs[1:]\n",
    "        movie_data = []\n",
    "        \n",
    "        for i, tr in enumerate(trs):\n",
    "            title = tr.find(\"td\").find(\"a\").text\n",
    "            if i == 0:\n",
    "                status = \"W\"\n",
    "            else:\n",
    "                status = \"N\"\n",
    "            movie_data.append([title, year, status])\n",
    "            \n",
    "        nominee_data += movie_data\n",
    "    \n",
    "    return nominee_data"
   ]
  },
  {
   "cell_type": "code",
   "execution_count": 360,
   "metadata": {
    "collapsed": false
   },
   "outputs": [
    {
     "data": {
      "text/plain": [
       "520"
      ]
     },
     "execution_count": 360,
     "metadata": {},
     "output_type": "execute_result"
    }
   ],
   "source": [
    "# wiki_html = get_HTML(\"https://en.wikipedia.org/wiki/Academy_Award_for_Best_Picture\")\n",
    "nominees_and_winners_raw = scrape_wiki_best_pic_page(wiki_html)\n",
    "len(nominees_and_winners_raw)"
   ]
  },
  {
   "cell_type": "code",
   "execution_count": 362,
   "metadata": {
    "collapsed": false
   },
   "outputs": [
    {
     "name": "stdout",
     "output_type": "stream",
     "text": [
      "Data_Scraping.ipynb      movie_data.pkl           nominees_and_winners.pkl\r\n"
     ]
    }
   ],
   "source": [
    "# pickle_it(nominees_and_winners_raw, \"nominees_and_winners.pkl\")\n",
    "!ls"
   ]
  },
  {
   "cell_type": "code",
   "execution_count": 823,
   "metadata": {
    "collapsed": false
   },
   "outputs": [],
   "source": [
    "def scrape_individual_movie_page(html):\n",
    "    try:\n",
    "        release_date = html.find(class_=\"infobar\").find(class_=\"nobr\").text.strip().split(\"\\n\")[0]\n",
    "    except:\n",
    "        release_date = \"\"\n",
    "    \n",
    "    try:\n",
    "        rating_details = html.find(class_=\"star-box-details\").text\n",
    "    except:\n",
    "        rating_details = \"\"\n",
    "    try:\n",
    "        critic_rating = re.search(r\"Metascore: .*/100\", rating_details).group().split()[-1].split(\"/\")[0]\n",
    "        critic_rating_n = re.search(r\"\\|.*\\n.*\\n.*from\\n.*Metacritic.com\", rating_details).group().split(\"\\n\")[1].strip()\n",
    "    except:\n",
    "        critic_rating = \"\"\n",
    "        critic_rating_n = \"\"\n",
    "    \n",
    "    try:\n",
    "        writer = [a.text for a in html.find(itemprop=\"creator\").find_all(\"a\")]\n",
    "        if \" credit\" in writer[-1]:\n",
    "            writer = writer[:-1]\n",
    "    except:\n",
    "        writer = \"\"\n",
    "\n",
    "    try:\n",
    "        details_text = html.find(id=\"titleDetails\").text\n",
    "        details_text = details_text.replace(\"\\n\\n\", \"|#|\")\n",
    "        details_text = details_text.replace(\"See full technical specs\", \"|#|\")\n",
    "        details_text = details_text.replace(\"\\n\", \" \")\n",
    "        details_text = details_text.replace(\"\\t\", \" \")\n",
    "        details_text = details_text.replace(\"  \", \" \")\n",
    "    except:\n",
    "        details_text = \"\"\n",
    "    \n",
    "    # Country\n",
    "    if re.search(r\"Country:\", details_text):\n",
    "        country = re.search(r\"Country\\:.*?\\|\\#\\|\", details_text).group()\n",
    "        country = country[8:-3].strip()\n",
    "        country = country.split(\" | \")\n",
    "    else:\n",
    "        country = \"\"\n",
    "    \n",
    "    # Language\n",
    "    if re.search(r\"Language:\", details_text):\n",
    "        language = re.search(r\"Language\\:.*?\\|\\#\\|\", details_text).group()\n",
    "        language = language[9:-3].strip()\n",
    "        language = language.split(\" | \")\n",
    "    else:\n",
    "        language = \"\"\n",
    "    \n",
    "    # Budget\n",
    "    if re.search(r\"Budget:\", details_text):\n",
    "        budget = re.search(r\"Budget\\:.*?\\|\\#\\|\", details_text).group()\n",
    "        budget = budget[7:-3].strip()\n",
    "    else:\n",
    "        budget = \"\"\n",
    "    \n",
    "    # Opening Weekend\n",
    "    if re.search(r\"Opening Weekend:\", details_text):\n",
    "        opening_weekend_gross = re.search(r\"Opening Weekend\\:.*?\\|\\#\\|\", details_text).group()\n",
    "        opening_weekend_gross = opening_weekend_gross[16:-3].strip()\n",
    "    else:\n",
    "        opening_weekend_gross = \"\"\n",
    "    \n",
    "    # Production Company\n",
    "    if re.search(r\"Production Co:\", details_text):\n",
    "        production_company = re.search(r\"Production Co\\:\\|\\#\\|.*?\\|\\#\\|\", details_text).group()\n",
    "        production_company = production_company[17:-3].strip()\n",
    "        production_company = production_company.split(\", \")\n",
    "        if \"See more\" in production_company[-1]:\n",
    "            production_company[-1] = production_company[-1].replace(\"See more\", \"\")\n",
    "            production_company[-1] = production_company[-1].replace(\"\\xa0\", \"\")\n",
    "            production_company[-1] = production_company[-1].replace(\"»\", \"\")\n",
    "        production_company = [company.strip() for company in production_company]\n",
    "    else:\n",
    "        production_company = \"\"\n",
    "    \n",
    "    # Sound Mix\n",
    "    if re.search(r\"Sound Mix:\", details_text):\n",
    "        sound_mix = re.search(r\"Sound Mix\\:.*?\\|\\#\\|\", details_text).group()\n",
    "        sound_mix = sound_mix[10:-3].strip()\n",
    "        sound_mix = sound_mix.split(\" | \")\n",
    "    else:\n",
    "        sound_mix = \"\"\n",
    "    \n",
    "    # Color\n",
    "    if re.search(r\"Color:\", details_text):\n",
    "        color = re.search(r\"Color\\:.*?\\|\\#\\|\", details_text).group()\n",
    "        color = color[6:-3].strip()\n",
    "        color = color.split(\" | \")\n",
    "    else:\n",
    "        color = \"\"\n",
    "    \n",
    "    # Aspect Ratio\n",
    "    if re.search(r\"Aspect Ratio:\", details_text):\n",
    "        pass\n",
    "        aspect_ratio = re.search(r\"Aspect Ratio\\:.*?\\|\\#\\|\", details_text).group()\n",
    "        aspect_ratio = aspect_ratio[13:-3].strip()\n",
    "    else:\n",
    "        aspect_ratio = \"\"\n",
    "    \n",
    "    return [release_date, critic_rating, critic_rating_n, writer, country, language, \\\n",
    "            budget, opening_weekend_gross, production_company, sound_mix, color, aspect_ratio]"
   ]
  },
  {
   "cell_type": "code",
   "execution_count": 815,
   "metadata": {
    "collapsed": true
   },
   "outputs": [],
   "source": [
    "def scrape_multiple_individual_movie_pages(links):\n",
    "    detailed_movie_data = []\n",
    "    links_visited = 0\n",
    "    \n",
    "    for link in links:\n",
    "        movie_html = get_HTML(link)\n",
    "        data = [link]\n",
    "        data += scrape_individual_movie_page(movie_html)\n",
    "        detailed_movie_data.append(data)\n",
    "        links_visited += 1\n",
    "        if links_visited % 1000 == 0:\n",
    "            # pickle_it(detailed_movie_data, \"detailed_movie_data.pkl\")\n",
    "     \n",
    "    # pickle_it(detailed_movie_data, \"detailed_movie_data.pkl\")\n",
    "    return detailed_movie_data"
   ]
  },
  {
   "cell_type": "code",
   "execution_count": 824,
   "metadata": {
    "collapsed": false
   },
   "outputs": [],
   "source": [
    "all_links = load_pickle(\"all_links.pkl\")\n",
    "# detailed_movie_data = scrape_multiple_individual_movie_pages(all_links)"
   ]
  },
  {
   "cell_type": "code",
   "execution_count": 821,
   "metadata": {
    "collapsed": false
   },
   "outputs": [
    {
     "name": "stdout",
     "output_type": "stream",
     "text": [
      "Data_Processing.ipynb          detailed_movie_data3.pkl\r\n",
      "Data_Scraping.ipynb            detailed_movie_data4.pkl\r\n",
      "Selenium_Scraping.ipynb        detailed_movie_data5.pkl\r\n",
      "all_links.pkl                  detailed_movie_data6.pkl\r\n",
      "detailed_movie_data.pkl        detailed_movie_data7.pkl\r\n",
      "detailed_movie_data1.pkl       detailed_movie_data7b.pkl\r\n",
      "detailed_movie_data10.pkl      detailed_movie_data8.pkl\r\n",
      "detailed_movie_data11.pkl      detailed_movie_data9.pkl\r\n",
      "detailed_movie_data12.pkl      df_for_regression.pkl\r\n",
      "detailed_movie_data13.pkl      directors_actors_actresses.pkl\r\n",
      "detailed_movie_data14.pkl      movie_data.pkl\r\n",
      "detailed_movie_data15.pkl      nominees_and_winners.pkl\r\n",
      "detailed_movie_data2.pkl\r\n"
     ]
    }
   ],
   "source": [
    "# pickle_it(detailed_movie_data, \"detailed_movie_data.pkl\")\n",
    "!ls"
   ]
  },
  {
   "cell_type": "code",
   "execution_count": null,
   "metadata": {
    "collapsed": true
   },
   "outputs": [],
   "source": []
  }
 ],
 "metadata": {
  "kernelspec": {
   "display_name": "Python 3",
   "language": "python",
   "name": "python3"
  },
  "language_info": {
   "codemirror_mode": {
    "name": "ipython",
    "version": 3
   },
   "file_extension": ".py",
   "mimetype": "text/x-python",
   "name": "python",
   "nbconvert_exporter": "python",
   "pygments_lexer": "ipython3",
   "version": "3.4.3"
  }
 },
 "nbformat": 4,
 "nbformat_minor": 0
}

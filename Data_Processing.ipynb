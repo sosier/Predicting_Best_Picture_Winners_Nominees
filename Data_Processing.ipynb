{
 "cells": [
  {
   "cell_type": "markdown",
   "metadata": {},
   "source": [
    "# Predicting Best Picture Winners & Nominees\n",
    "*An Analysis by Sean Osier*"
   ]
  },
  {
   "cell_type": "markdown",
   "metadata": {},
   "source": [
    "### Data Cleaning and Processing"
   ]
  },
  {
   "cell_type": "code",
   "execution_count": 143,
   "metadata": {
    "collapsed": true
   },
   "outputs": [],
   "source": [
    "# Import Dependencies\n",
    "import pickle\n",
    "import requests\n",
    "from bs4 import BeautifulSoup\n",
    "import pandas as pd\n",
    "import numpy as np\n",
    "import re\n",
    "\n",
    "# import csv\n",
    "# from collections import defaultdict\n",
    "# import dateutil.parser\n",
    "\n",
    "# For display\n",
    "import pprint\n",
    "import matplotlib.pyplot as plt\n",
    "%matplotlib inline"
   ]
  },
  {
   "cell_type": "code",
   "execution_count": 144,
   "metadata": {
    "collapsed": true
   },
   "outputs": [],
   "source": [
    "# Pickling functions\n",
    "def pickle_it(data, filename, python_version=3):\n",
    "    with open(filename, \"wb\") as picklefile:\n",
    "        pickle.dump(data, picklefile, protocol=python_version)\n",
    "\n",
    "def load_pickle(filename):\n",
    "    with open(filename, \"rb\") as picklefile: \n",
    "        return pickle.load(picklefile)"
   ]
  },
  {
   "cell_type": "code",
   "execution_count": 184,
   "metadata": {
    "collapsed": false
   },
   "outputs": [],
   "source": [
    "def process_IMDB_data(movie_data):\n",
    "    headers = [\"title\", \"year\", \"link\", \"user_rating_long\", \"user_rating_short\",\n",
    "                           \"outline\", \"director\", \"starring\", \"genre\", \"pg_rating\", \"runtime\"]\n",
    "    df = pd.DataFrame(movie_data, columns=headers)\n",
    "    df.drop_duplicates(inplace=True)\n",
    "    \n",
    "    # Some initial cleaning\n",
    "    df[\"year\"] = df[\"year\"].replace(\"(2012 Documentary)\", \"(2012)\")\n",
    "    \n",
    "    # Key\n",
    "    df[\"key\"] = df[\"title\"] + \" \" + df[\"year\"]\n",
    "    \n",
    "    # Year\n",
    "    df[\"year\"] = df[\"year\"].apply(lambda x: x[1:-1])\n",
    "    \n",
    "    # Link\n",
    "    df[\"link\"] = \"http://www.imdb.com\" + df[\"link\"]\n",
    "    \n",
    "    # User Rating\n",
    "    df[\"user_rating_short\"] = df[\"user_rating_short\"].convert_objects(convert_numeric=True)\n",
    "    \n",
    "    # User Rating n-size\n",
    "    df[\"user_rating_n\"] = df[\"user_rating_long\"].apply(lambda x: x.split()[4] if x != \"\" else \"\")\n",
    "    df[\"user_rating_n\"] = df[\"user_rating_n\"].apply(lambda x: x[1:].replace(\",\", \"\") if x != \"\" else \"\")\n",
    "    df[\"user_rating_n\"] = df[\"user_rating_n\"].convert_objects(convert_numeric=True)\n",
    "    \n",
    "    # Director(s)\n",
    "    df[\"director\"] = df[\"director\"].apply(lambda x: x.split(\", \"))\n",
    "    \n",
    "    # Lead Actors\n",
    "    df[\"starring\"] = df[\"starring\"].apply(lambda x: x.split(\", \"))\n",
    "    \n",
    "    # Genre\n",
    "    df[\"genre\"] = df[\"genre\"].apply(lambda x: x.split(\" | \"))\n",
    "    \n",
    "    # Runtime\n",
    "    df[\"runtime\"] = df[\"runtime\"].apply(lambda x: x.split()[0] if x != \"\" else \"\")\n",
    "    df[\"runtime\"] = df[\"runtime\"].convert_objects(convert_numeric=True)\n",
    "    \n",
    "    # Removed unneed columns\n",
    "    df = df[[\"key\", \"title\", \"year\", \"user_rating_short\", \"user_rating_n\", \"director\", \"starring\", \"genre\", \\\n",
    "            \"runtime\", \"pg_rating\", \"link\"]]\n",
    "    \n",
    "    # More cleaning\n",
    "    df = df[(df[\"year\"] != \"2015\") & (df[\"year\"] != \"2016\") & (df[\"year\"] != \"????\") & (df[\"year\"] != \"???? \")]\n",
    "    keep_criterion = df[\"runtime\"].map(lambda x: ((x >= 45) and (x <= 360)) or (pd.isnull(x)))\n",
    "    df = df[keep_criterion]\n",
    "    \n",
    "    return df"
   ]
  },
  {
   "cell_type": "code",
   "execution_count": 175,
   "metadata": {
    "collapsed": true
   },
   "outputs": [],
   "source": [
    "def process_nominee_and_winner_data(data):\n",
    "    headers = [\"title\", \"year\", \"status\"]\n",
    "    df = pd.DataFrame(data, columns=headers)\n",
    "    df.drop_duplicates(inplace=True)\n",
    "    \n",
    "    # Initial cleaning\n",
    "    df[\"title\"] = df[\"title\"].replace(\"The Godfather Part III\", \"The Godfather: Part III\")\n",
    "    df[\"title\"] = df[\"title\"].replace(\"Good Night, and Good Luck\", \"Good Night, and Good Luck.\")\n",
    "    df[\"title\"] = df[\"title\"].replace(\"Precious: Based on the Novel \\\"Push\\\" by Sapphire\", \"Precious\")\n",
    "    df[\"title\"] = df[\"title\"].replace(\"Extremely Loud and Incredibly Close\", \"Extremely Loud & Incredibly Close\")\n",
    "    df[\"title\"] = df[\"title\"].replace(\"Birdman or (The Unexpected Virtue of Ignorance)\", \n",
    "                                      \"Birdman: Or (The Unexpected Virtue of Ignorance)\")\n",
    "    \n",
    "    # Key\n",
    "    df[\"key\"] = df[\"title\"] + \" (\" + df[\"year\"] + \")\"\n",
    "    \n",
    "    # Status Year (Year Nominated For)\n",
    "    df[\"status_year\"] = df[\"year\"]\n",
    "    \n",
    "    df = df[[\"key\", \"title\", \"year\", \"status\", \"status_year\"]]\n",
    "    \n",
    "    # More cleaning\n",
    "    df[\"key\"] = df[\"key\"].replace(\"Il Postino: The Postman (1995)\", \"Il Postino: The Postman (1994)\")\n",
    "    df[\"key\"] = df[\"key\"].replace(\"Life Is Beautiful (1998)\", \"Life Is Beautiful (1997)\")\n",
    "    df[\"key\"] = df[\"key\"].replace(\"Crash (2005)\", \"Crash (2004)\")\n",
    "    df[\"key\"] = df[\"key\"].replace(\"The Hurt Locker (2009)\", \"The Hurt Locker (2008)\")\n",
    "    \n",
    "    return df"
   ]
  },
  {
   "cell_type": "code",
   "execution_count": 171,
   "metadata": {
    "collapsed": true
   },
   "outputs": [],
   "source": [
    "def merge_in_nominees_and_wins(df, nom_win_df):\n",
    "    nom_win_for_merge = nom_win_df[nom_win_df[\"year\"].astype(int) >= 1990]\n",
    "    nom_win_for_merge = nom_win_for_merge[[\"key\", \"status\", \"status_year\"]]\n",
    "    \n",
    "    new_df = pd.merge(df, nom_win_for_merge, on='key', how='left')\n",
    "\n",
    "    new_df[\"status\"][10186] = np.nan\n",
    "    new_df[\"status_year\"][10186] = np.nan\n",
    "    new_df[\"status\"][57111] = np.nan\n",
    "    new_df[\"status_year\"][57111] = np.nan\n",
    "    \n",
    "    return new_df"
   ]
  },
  {
   "cell_type": "code",
   "execution_count": 172,
   "metadata": {
    "collapsed": false
   },
   "outputs": [],
   "source": [
    "# Load in raw scraped data\n",
    "movie_data = load_pickle(\"movie_data.pkl\")\n",
    "nominees_and_winners_raw = load_pickle(\"nominees_and_winners.pkl\")"
   ]
  },
  {
   "cell_type": "code",
   "execution_count": null,
   "metadata": {
    "collapsed": false
   },
   "outputs": [],
   "source": [
    "# Process the data\n",
    "df = process_IMDB_data(movie_data)\n",
    "nom_win_df = process_nominee_and_winner_data(nominees_and_winners_raw)\n",
    "df = merge_in_nominees_and_wins(df, nom_win_df)\n",
    "print(len(df))"
   ]
  },
  {
   "cell_type": "code",
   "execution_count": 193,
   "metadata": {
    "collapsed": false
   },
   "outputs": [
    {
     "name": "stdout",
     "output_type": "stream",
     "text": [
      "Data_Processing.ipynb          detailed_movie_data3.pkl\r\n",
      "Data_Scraping.ipynb            detailed_movie_data4.pkl\r\n",
      "Selenium_Scraping.ipynb        detailed_movie_data5.pkl\r\n",
      "all_links.pkl                  detailed_movie_data6.pkl\r\n",
      "detailed_movie_data1.pkl       detailed_movie_data7.pkl\r\n",
      "detailed_movie_data10.pkl      detailed_movie_data7b.pkl\r\n",
      "detailed_movie_data11.pkl      detailed_movie_data8.pkl\r\n",
      "detailed_movie_data12.pkl      detailed_movie_data9.pkl\r\n",
      "detailed_movie_data13.pkl      directors_actors_actresses.pkl\r\n",
      "detailed_movie_data14.pkl      movie_data.pkl\r\n",
      "detailed_movie_data2.pkl       nominees_and_winners.pkl\r\n"
     ]
    }
   ],
   "source": [
    "links = df[\"link\"].values\n",
    "# pickle_it(links, \"all_links.pkl\")\n",
    "!ls"
   ]
  },
  {
   "cell_type": "code",
   "execution_count": 190,
   "metadata": {
    "collapsed": false
   },
   "outputs": [
    {
     "data": {
      "text/html": [
       "<div>\n",
       "<table border=\"1\" class=\"dataframe\">\n",
       "  <thead>\n",
       "    <tr style=\"text-align: right;\">\n",
       "      <th></th>\n",
       "      <th>key</th>\n",
       "      <th>title</th>\n",
       "      <th>year</th>\n",
       "      <th>user_rating_short</th>\n",
       "      <th>user_rating_n</th>\n",
       "      <th>director</th>\n",
       "      <th>starring</th>\n",
       "      <th>genre</th>\n",
       "      <th>runtime</th>\n",
       "      <th>pg_rating</th>\n",
       "      <th>link</th>\n",
       "      <th>status</th>\n",
       "      <th>status_year</th>\n",
       "    </tr>\n",
       "  </thead>\n",
       "  <tbody>\n",
       "    <tr>\n",
       "      <th>0</th>\n",
       "      <td>Inception (2010)</td>\n",
       "      <td>Inception</td>\n",
       "      <td>2010</td>\n",
       "      <td>8.8</td>\n",
       "      <td>1303923</td>\n",
       "      <td>[Christopher Nolan]</td>\n",
       "      <td>[Leonardo DiCaprio, Joseph Gordon-Levitt, Elle...</td>\n",
       "      <td>[Action, Mystery, Sci-Fi, Thriller]</td>\n",
       "      <td>148</td>\n",
       "      <td>PG_13</td>\n",
       "      <td>http://www.imdb.com/title/tt1375666/</td>\n",
       "      <td>N</td>\n",
       "      <td>2010</td>\n",
       "    </tr>\n",
       "  </tbody>\n",
       "</table>\n",
       "</div>"
      ],
      "text/plain": [
       "                key      title  year  user_rating_short  user_rating_n  \\\n",
       "0  Inception (2010)  Inception  2010                8.8        1303923   \n",
       "\n",
       "              director                                           starring  \\\n",
       "0  [Christopher Nolan]  [Leonardo DiCaprio, Joseph Gordon-Levitt, Elle...   \n",
       "\n",
       "                                 genre  runtime pg_rating  \\\n",
       "0  [Action, Mystery, Sci-Fi, Thriller]      148     PG_13   \n",
       "\n",
       "                                   link status status_year  \n",
       "0  http://www.imdb.com/title/tt1375666/      N        2010  "
      ]
     },
     "execution_count": 190,
     "metadata": {},
     "output_type": "execute_result"
    }
   ],
   "source": [
    "df.head(1)"
   ]
  },
  {
   "cell_type": "code",
   "execution_count": 198,
   "metadata": {
    "collapsed": false
   },
   "outputs": [],
   "source": [
    "by = df.groupby(\"pg_rating\")\n",
    "# by.size()"
   ]
  },
  {
   "cell_type": "code",
   "execution_count": null,
   "metadata": {
    "collapsed": false
   },
   "outputs": [],
   "source": []
  },
  {
   "cell_type": "code",
   "execution_count": null,
   "metadata": {
    "collapsed": false
   },
   "outputs": [],
   "source": [
    "def final_clean(df):\n",
    "    # Parental Guidance (MPAA) Rating\n",
    "    df = df[df[\"pg_rating\"] != \"APPROVED\"]\n",
    "    df[\"pg_rating\"] = df[\"pg_rating\"].replace(\"X\", \"NC_17\")\n",
    "    df[\"pg_rating\"] = df[\"pg_rating\"].replace(\"NOT_RATED\", \"UNRATED\")\n",
    "    df[\"pg_rating\"] = df[\"pg_rating\"].replace(\"\", \"UNRATED\")\n",
    "\n",
    "    # Status and Status Score\n",
    "    df[\"status_score\"] = df[\"status\"]\n",
    "    df[\"status_score\"] = df[\"status_score\"].replace(\"W\", 10)\n",
    "    df[\"status_score\"] = df[\"status_score\"].replace(\"N\", 5)\n",
    "    df[\"status_score\"] = df[\"status_score\"].replace(np.nan, 0)\n",
    "    \n",
    "    # Status Year\n",
    "    df[\"status_year\"].fillna(df[\"year\"], inplace=True)\n",
    "    \n",
    "    # Number Nominees\n",
    "    df[\"num_nominees\"] = df[\"status_year\"].apply(lambda x: \"5\" if int(x) <= 2008 else \">5\")\n",
    "\n",
    "    return df\n",
    "    \n",
    "df = final_clean(df)"
   ]
  },
  {
   "cell_type": "code",
   "execution_count": 202,
   "metadata": {
    "collapsed": false
   },
   "outputs": [
    {
     "data": {
      "text/html": [
       "<div>\n",
       "<table border=\"1\" class=\"dataframe\">\n",
       "  <thead>\n",
       "    <tr style=\"text-align: right;\">\n",
       "      <th></th>\n",
       "      <th>key</th>\n",
       "      <th>title</th>\n",
       "      <th>year</th>\n",
       "      <th>user_rating_short</th>\n",
       "      <th>user_rating_n</th>\n",
       "      <th>director</th>\n",
       "      <th>starring</th>\n",
       "      <th>genre</th>\n",
       "      <th>runtime</th>\n",
       "      <th>pg_rating</th>\n",
       "      <th>link</th>\n",
       "      <th>status</th>\n",
       "      <th>status_year</th>\n",
       "      <th>status_score</th>\n",
       "      <th>num_nominees</th>\n",
       "    </tr>\n",
       "  </thead>\n",
       "  <tbody>\n",
       "    <tr>\n",
       "      <th>0</th>\n",
       "      <td>Inception (2010)</td>\n",
       "      <td>Inception</td>\n",
       "      <td>2010</td>\n",
       "      <td>8.8</td>\n",
       "      <td>1303923</td>\n",
       "      <td>[Christopher Nolan]</td>\n",
       "      <td>[Leonardo DiCaprio, Joseph Gordon-Levitt, Elle...</td>\n",
       "      <td>[Action, Mystery, Sci-Fi, Thriller]</td>\n",
       "      <td>148</td>\n",
       "      <td>PG_13</td>\n",
       "      <td>http://www.imdb.com/title/tt1375666/</td>\n",
       "      <td>N</td>\n",
       "      <td>2010</td>\n",
       "      <td>5</td>\n",
       "      <td>&gt;5</td>\n",
       "    </tr>\n",
       "  </tbody>\n",
       "</table>\n",
       "</div>"
      ],
      "text/plain": [
       "                key      title  year  user_rating_short  user_rating_n  \\\n",
       "0  Inception (2010)  Inception  2010                8.8        1303923   \n",
       "\n",
       "              director                                           starring  \\\n",
       "0  [Christopher Nolan]  [Leonardo DiCaprio, Joseph Gordon-Levitt, Elle...   \n",
       "\n",
       "                                 genre  runtime pg_rating  \\\n",
       "0  [Action, Mystery, Sci-Fi, Thriller]      148     PG_13   \n",
       "\n",
       "                                   link status status_year  status_score  \\\n",
       "0  http://www.imdb.com/title/tt1375666/      N        2010             5   \n",
       "\n",
       "  num_nominees  \n",
       "0           >5  "
      ]
     },
     "execution_count": 202,
     "metadata": {},
     "output_type": "execute_result"
    }
   ],
   "source": [
    "df.head(1)"
   ]
  },
  {
   "cell_type": "code",
   "execution_count": 203,
   "metadata": {
    "collapsed": false
   },
   "outputs": [
    {
     "data": {
      "text/plain": [
       "num_nominees\n",
       "5     73834\n",
       ">5    46902\n",
       "dtype: int64"
      ]
     },
     "execution_count": 203,
     "metadata": {},
     "output_type": "execute_result"
    }
   ],
   "source": [
    "by = df.groupby(\"num_nominees\")\n",
    "by.size()"
   ]
  },
  {
   "cell_type": "code",
   "execution_count": 219,
   "metadata": {
    "collapsed": false
   },
   "outputs": [],
   "source": [
    "directors, actors, actresses = load_pickle(\"directors_actors_actresses.pkl\")\n",
    "stars = actors + actresses\n",
    "\n",
    "genres = sorted(list(set([genre for genre_list in df[\"genre\"].values for genre in genre_list]))[1:])\n",
    "genres_to_exclude = [\"News\", \"Talk-Show\", \"Game-Show\", \"Reality-TV\", \"Documentary\", \"Adult\"]\n",
    "genres = [genre for genre in genres if genre not in genres_to_exclude]"
   ]
  },
  {
   "cell_type": "code",
   "execution_count": 220,
   "metadata": {
    "collapsed": true
   },
   "outputs": [],
   "source": [
    "def make_boolean_columns(df, old_column, new_columns):\n",
    "    for column in new_columns:\n",
    "        column_name = old_column + \"_\"\n",
    "        column_name += column.lower().replace(\" \", \"_\")\n",
    "        df[column_name] = df[old_column].apply(lambda x: 1 if column in x else 0)\n",
    "        \n",
    "    return df"
   ]
  },
  {
   "cell_type": "code",
   "execution_count": 221,
   "metadata": {
    "collapsed": true
   },
   "outputs": [],
   "source": [
    "df = make_boolean_columns(df, \"director\", directors)\n",
    "df = make_boolean_columns(df, \"starring\", stars)\n",
    "df = make_boolean_columns(df, \"genre\", genres)"
   ]
  },
  {
   "cell_type": "code",
   "execution_count": 226,
   "metadata": {
    "collapsed": false
   },
   "outputs": [],
   "source": [
    "df = df.drop([\"title\", \"year\", \"user_rating_n\", \"director\", \"starring\", \"genre\", \"link\", \"status\"], axis=1)"
   ]
  },
  {
   "cell_type": "code",
   "execution_count": 228,
   "metadata": {
    "collapsed": false
   },
   "outputs": [
    {
     "data": {
      "text/plain": [
       "120736"
      ]
     },
     "execution_count": 228,
     "metadata": {},
     "output_type": "execute_result"
    }
   ],
   "source": [
    "# test_df[test_df[\"title\"] == \"Her\"].head(1)\n",
    "# df.head()\n",
    "len(df)"
   ]
  },
  {
   "cell_type": "code",
   "execution_count": 229,
   "metadata": {
    "collapsed": false
   },
   "outputs": [
    {
     "name": "stdout",
     "output_type": "stream",
     "text": [
      "Data_Processing.ipynb          detailed_movie_data3.pkl\r\n",
      "Data_Scraping.ipynb            detailed_movie_data4.pkl\r\n",
      "Selenium_Scraping.ipynb        detailed_movie_data5.pkl\r\n",
      "all_links.pkl                  detailed_movie_data6.pkl\r\n",
      "detailed_movie_data1.pkl       detailed_movie_data7.pkl\r\n",
      "detailed_movie_data10.pkl      detailed_movie_data7b.pkl\r\n",
      "detailed_movie_data11.pkl      detailed_movie_data8.pkl\r\n",
      "detailed_movie_data12.pkl      detailed_movie_data9.pkl\r\n",
      "detailed_movie_data13.pkl      df_for_regression.pkl\r\n",
      "detailed_movie_data14.pkl      directors_actors_actresses.pkl\r\n",
      "detailed_movie_data15.pkl      movie_data.pkl\r\n",
      "detailed_movie_data2.pkl       nominees_and_winners.pkl\r\n"
     ]
    }
   ],
   "source": [
    "# pickle_it(df, \"df_for_regression.pkl\")\n",
    "!ls"
   ]
  },
  {
   "cell_type": "code",
   "execution_count": null,
   "metadata": {
    "collapsed": true
   },
   "outputs": [],
   "source": []
  },
  {
   "cell_type": "code",
   "execution_count": 205,
   "metadata": {
    "collapsed": false
   },
   "outputs": [],
   "source": [
    "def make_hist_dict(column):\n",
    "    d = {}\n",
    "    for lst in df[column].values:\n",
    "        for x in lst:\n",
    "            d[x] = d.get(x, 0) + 1\n",
    "    \n",
    "    return d"
   ]
  },
  {
   "cell_type": "code",
   "execution_count": 121,
   "metadata": {
    "collapsed": false
   },
   "outputs": [
    {
     "data": {
      "text/html": [
       "<div>\n",
       "<table border=\"1\" class=\"dataframe\">\n",
       "  <thead>\n",
       "    <tr style=\"text-align: right;\">\n",
       "      <th></th>\n",
       "      <th>key</th>\n",
       "      <th>title</th>\n",
       "      <th>year</th>\n",
       "      <th>user_rating_short</th>\n",
       "      <th>user_rating_n</th>\n",
       "      <th>director</th>\n",
       "      <th>starring</th>\n",
       "      <th>genre</th>\n",
       "      <th>runtime</th>\n",
       "      <th>pg_rating</th>\n",
       "      <th>link</th>\n",
       "      <th>status</th>\n",
       "      <th>status_year</th>\n",
       "      <th>status_score</th>\n",
       "    </tr>\n",
       "  </thead>\n",
       "  <tbody>\n",
       "    <tr>\n",
       "      <th>6610</th>\n",
       "      <td>The Writers (2011)</td>\n",
       "      <td>The Writers</td>\n",
       "      <td>2011</td>\n",
       "      <td>3.7</td>\n",
       "      <td>58</td>\n",
       "      <td>[Todd Michael Smith]</td>\n",
       "      <td>[Ben Kacon, Steven Michael McKenzie, Shane Miles]</td>\n",
       "      <td>[Adult, Crime, Drama, Thriller]</td>\n",
       "      <td>90</td>\n",
       "      <td>UNRATED</td>\n",
       "      <td>http://www.imdb.com/title/tt1879084/</td>\n",
       "      <td>NaN</td>\n",
       "      <td>2011</td>\n",
       "      <td>0</td>\n",
       "    </tr>\n",
       "    <tr>\n",
       "      <th>42080</th>\n",
       "      <td>The Japanese Wife Next Door (2004)</td>\n",
       "      <td>The Japanese Wife Next Door</td>\n",
       "      <td>2004</td>\n",
       "      <td>5.3</td>\n",
       "      <td>861</td>\n",
       "      <td>[Yutaka Ikejima]</td>\n",
       "      <td>[Reiko Yamaguchi, Kaoru Akitsu, Naohiro Hirakawa]</td>\n",
       "      <td>[Comedy, Adult]</td>\n",
       "      <td>60</td>\n",
       "      <td>UNRATED</td>\n",
       "      <td>http://www.imdb.com/title/tt1439456/</td>\n",
       "      <td>NaN</td>\n",
       "      <td>2004</td>\n",
       "      <td>0</td>\n",
       "    </tr>\n",
       "    <tr>\n",
       "      <th>42432</th>\n",
       "      <td>Locked Up (2004)</td>\n",
       "      <td>Locked Up</td>\n",
       "      <td>2004</td>\n",
       "      <td>5.1</td>\n",
       "      <td>830</td>\n",
       "      <td>[JÃ¶rg Andreas]</td>\n",
       "      <td>[Marcel Schlutt, Mike Sale, Ralph Steel]</td>\n",
       "      <td>[Adult, Crime, Drama, Romance]</td>\n",
       "      <td>96</td>\n",
       "      <td>UNRATED</td>\n",
       "      <td>http://www.imdb.com/title/tt0410006/</td>\n",
       "      <td>NaN</td>\n",
       "      <td>2004</td>\n",
       "      <td>0</td>\n",
       "    </tr>\n",
       "    <tr>\n",
       "      <th>45743</th>\n",
       "      <td>Queer FT 2 (2005)</td>\n",
       "      <td>Queer FT 2</td>\n",
       "      <td>2005</td>\n",
       "      <td>4.8</td>\n",
       "      <td>33</td>\n",
       "      <td>[Laurence Chanfro, Mino D.C.]</td>\n",
       "      <td>[GÃ©rald Marix, Ãrik RÃ©mÃ¨s, Jean-Marc S.]</td>\n",
       "      <td>[Fantasy, Adult]</td>\n",
       "      <td>75</td>\n",
       "      <td>UNRATED</td>\n",
       "      <td>http://www.imdb.com/title/tt0480722/</td>\n",
       "      <td>NaN</td>\n",
       "      <td>2005</td>\n",
       "      <td>0</td>\n",
       "    </tr>\n",
       "    <tr>\n",
       "      <th>53345</th>\n",
       "      <td>Queer FT 3 (2007)</td>\n",
       "      <td>Queer FT 3</td>\n",
       "      <td>2007</td>\n",
       "      <td>4.3</td>\n",
       "      <td>20</td>\n",
       "      <td>[Angelstud, Mino D.C.]</td>\n",
       "      <td>[Mino D.C., Manu Lebon, HervÃ© Joseph Lebrun]</td>\n",
       "      <td>[Adult]</td>\n",
       "      <td>54</td>\n",
       "      <td>UNRATED</td>\n",
       "      <td>http://www.imdb.com/title/tt0970833/</td>\n",
       "      <td>NaN</td>\n",
       "      <td>2007</td>\n",
       "      <td>0</td>\n",
       "    </tr>\n",
       "  </tbody>\n",
       "</table>\n",
       "</div>"
      ],
      "text/plain": [
       "                                      key                        title  year  \\\n",
       "6610                   The Writers (2011)                  The Writers  2011   \n",
       "42080  The Japanese Wife Next Door (2004)  The Japanese Wife Next Door  2004   \n",
       "42432                    Locked Up (2004)                    Locked Up  2004   \n",
       "45743                   Queer FT 2 (2005)                   Queer FT 2  2005   \n",
       "53345                   Queer FT 3 (2007)                   Queer FT 3  2007   \n",
       "\n",
       "       user_rating_short  user_rating_n                       director  \\\n",
       "6610                 3.7             58           [Todd Michael Smith]   \n",
       "42080                5.3            861               [Yutaka Ikejima]   \n",
       "42432                5.1            830                [JÃ¶rg Andreas]   \n",
       "45743                4.8             33  [Laurence Chanfro, Mino D.C.]   \n",
       "53345                4.3             20         [Angelstud, Mino D.C.]   \n",
       "\n",
       "                                                starring  \\\n",
       "6610   [Ben Kacon, Steven Michael McKenzie, Shane Miles]   \n",
       "42080  [Reiko Yamaguchi, Kaoru Akitsu, Naohiro Hirakawa]   \n",
       "42432           [Marcel Schlutt, Mike Sale, Ralph Steel]   \n",
       "45743       [GÃ©rald Marix, Ãrik RÃ©mÃ¨s, Jean-Marc S.]   \n",
       "53345      [Mino D.C., Manu Lebon, HervÃ© Joseph Lebrun]   \n",
       "\n",
       "                                 genre  runtime pg_rating  \\\n",
       "6610   [Adult, Crime, Drama, Thriller]       90   UNRATED   \n",
       "42080                  [Comedy, Adult]       60   UNRATED   \n",
       "42432   [Adult, Crime, Drama, Romance]       96   UNRATED   \n",
       "45743                 [Fantasy, Adult]       75   UNRATED   \n",
       "53345                          [Adult]       54   UNRATED   \n",
       "\n",
       "                                       link status status_year  status_score  \n",
       "6610   http://www.imdb.com/title/tt1879084/    NaN        2011             0  \n",
       "42080  http://www.imdb.com/title/tt1439456/    NaN        2004             0  \n",
       "42432  http://www.imdb.com/title/tt0410006/    NaN        2004             0  \n",
       "45743  http://www.imdb.com/title/tt0480722/    NaN        2005             0  \n",
       "53345  http://www.imdb.com/title/tt0970833/    NaN        2007             0  "
      ]
     },
     "execution_count": 121,
     "metadata": {},
     "output_type": "execute_result"
    }
   ],
   "source": [
    "criterion = df[\"genre\"].map(lambda x: \"Adult\" in x)\n",
    "df[criterion].head()"
   ]
  },
  {
   "cell_type": "code",
   "execution_count": 142,
   "metadata": {
    "collapsed": false
   },
   "outputs": [
    {
     "data": {
      "text/plain": [
       "87147"
      ]
     },
     "execution_count": 142,
     "metadata": {},
     "output_type": "execute_result"
    }
   ],
   "source": [
    "len(df)"
   ]
  },
  {
   "cell_type": "code",
   "execution_count": null,
   "metadata": {
    "collapsed": true
   },
   "outputs": [],
   "source": []
  }
 ],
 "metadata": {
  "kernelspec": {
   "display_name": "Python 3",
   "language": "python",
   "name": "python3"
  },
  "language_info": {
   "codemirror_mode": {
    "name": "ipython",
    "version": 3
   },
   "file_extension": ".py",
   "mimetype": "text/x-python",
   "name": "python",
   "nbconvert_exporter": "python",
   "pygments_lexer": "ipython3",
   "version": "3.4.3"
  }
 },
 "nbformat": 4,
 "nbformat_minor": 0
}

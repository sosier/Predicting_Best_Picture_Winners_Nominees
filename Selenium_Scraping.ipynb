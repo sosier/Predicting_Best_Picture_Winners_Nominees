{
 "cells": [
  {
   "cell_type": "markdown",
   "metadata": {},
   "source": [
    "# Predicting Best Picture Winners & Nominees\n",
    "*An Analysis by Sean Osier*"
   ]
  },
  {
   "cell_type": "markdown",
   "metadata": {},
   "source": [
    "## Data Scraping with Selenium"
   ]
  },
  {
   "cell_type": "code",
   "execution_count": 117,
   "metadata": {
    "collapsed": true
   },
   "outputs": [],
   "source": [
    "# Import Dependencies\n",
    "import pickle\n",
    "import os\n",
    "from selenium import webdriver\n",
    "from selenium.webdriver.support.ui import WebDriverWait\n",
    "from selenium.webdriver.support import expected_conditions as EC\n",
    "from selenium.common.exceptions import TimeoutException\n",
    "from selenium.webdriver.common.keys import Keys\n",
    "import time"
   ]
  },
  {
   "cell_type": "code",
   "execution_count": 1,
   "metadata": {
    "collapsed": true
   },
   "outputs": [],
   "source": [
    "# Pickling functions\n",
    "def pickle_it(data, filename, python_version=3):\n",
    "    \"\"\"\n",
    "    In:\n",
    "    data = the data you want to pickle (save)\n",
    "    filename = file name where you want to save the data\n",
    "    python_version = the python version where you will be opening the pickle file\n",
    "    \n",
    "    Out:\n",
    "    Saves a pickle file with your data to to the filename you specify\n",
    "    \"\"\"\n",
    "    with open(filename, \"wb\") as picklefile:\n",
    "        pickle.dump(data, picklefile, protocol=python_version)\n",
    "\n",
    "def load_pickle(filename):\n",
    "    \"\"\"\n",
    "    In:\n",
    "    filename = name of the pickle file you want to open (e.g \"my_pickle.pkl\")\n",
    "    \n",
    "    Out:\n",
    "    Opens and returns the content of the picklefile to a variable of your choice\n",
    "    \"\"\"\n",
    "    with open(filename, \"rb\") as picklefile: \n",
    "        return pickle.load(picklefile)"
   ]
  },
  {
   "cell_type": "code",
   "execution_count": 2,
   "metadata": {
    "collapsed": false
   },
   "outputs": [],
   "source": [
    "# Selenium class and methods\n",
    "class Selenium(object):\n",
    "    \"\"\"\n",
    "    Object that initializes a \"Selenium\" object / session and contains methods for the key commands needs to scrape\n",
    "    with Selenium\n",
    "    \"\"\"\n",
    "    \n",
    "    def __init__(self, url):\n",
    "        \"\"\"\n",
    "        In:\n",
    "        url = website you want to go to first when the browser / Selenium session opens\n",
    "        \n",
    "        Out:\n",
    "        Starts browser / Selenium session\n",
    "        \"\"\"\n",
    "        self.chromedriver = \"/Users/seanosier/Downloads/chromedriver\" # Replace this with the location of your driver\n",
    "        os.environ[\"webdriver.chrome.driver\"] = chromedriver\n",
    "        self.driver = webdriver.Chrome(chromedriver)\n",
    "        self.driver.get(url)\n",
    "        self.delay = 2  # seconds\n",
    "        time.sleep(self.delay)\n",
    "    \n",
    "    def open_page(self, url):\n",
    "        \"\"\"\n",
    "        In:\n",
    "        url = webpage you want to go to\n",
    "        \n",
    "        Out:\n",
    "        Goes to requested webpage\n",
    "        \"\"\"\n",
    "        self.driver.get(url)\n",
    "        time.sleep(self.delay) \n",
    "\n",
    "    def find(self, tag, attr, value):\n",
    "        \"\"\"\n",
    "        In:\n",
    "        tag = HTML tag you want to find\n",
    "        attr = sub-element of the tag you want to check (e.g. href, class, id, etc.)\n",
    "        value = attribute value you want to find (e.g. \"XYZ\" in class=\"XYZ\")\n",
    "        \n",
    "        Out:\n",
    "        return_list = list of the text contents all instances of requested tag, attr, value combination\n",
    "        \"\"\"\n",
    "        selector = \"//%s[contains(@%s, '%s')]\" % (tag, attr, value)\n",
    "        return_list = []\n",
    "        for item in self.driver.find_elements_by_xpath(selector):\n",
    "            return_list.append(item.text)\n",
    "\n",
    "        return return_list\n",
    "        \n",
    "    def close(self):\n",
    "        \"\"\"\n",
    "        In:\n",
    "        None\n",
    "        \n",
    "        Out:\n",
    "        Close the browser / current Selenium session\n",
    "        \"\"\"\n",
    "        self.driver.close()"
   ]
  },
  {
   "cell_type": "code",
   "execution_count": 107,
   "metadata": {
    "collapsed": false
   },
   "outputs": [],
   "source": [
    "# Selenium funcitons\n",
    "def selenium_single_scrape(urls, tag, attr, value):\n",
    "    \"\"\"\n",
    "    In:\n",
    "    urls = list of webpage(s) you wish to scrape\n",
    "    tag = HTML tag you want to find\n",
    "    attr = sub-element of the tag you want to check (e.g. href, class, id, etc.)\n",
    "    value = attribute value you want to find (e.g. \"XYZ\" in class=\"XYZ\")\n",
    "    \n",
    "    Out:\n",
    "    Tuple of results with each tuple entry being the found contents for each url scraped\n",
    "    \"\"\"\n",
    "    sel = \"Not yet initiated\"\n",
    "    all_results = []\n",
    "    for i, url in enumerate(urls):\n",
    "        if i == 0:\n",
    "            sel = Selenium(url)\n",
    "        else:\n",
    "            sel.open_page(url)\n",
    "        result_list = sel.find(tag, attr, value)\n",
    "        all_results.append(result_list)\n",
    "    sel.close()\n",
    "    return tuple(all_results)\n",
    "\n",
    "def scrape_google_frequently_mentioned_bar_names(urls):\n",
    "    \"\"\"\n",
    "    In:\n",
    "    urls = list of Google search results urls containing a \"X frequenly mentioned on the web\" bar\n",
    "    \n",
    "    Out:\n",
    "    Tuple of results with each tuple entry being the found contents for each url scraped\n",
    "    \"\"\"\n",
    "    results = selenium_single_scrape(urls, \"div\", \"class\", \"kltat\")\n",
    "    return results"
   ]
  },
  {
   "cell_type": "code",
   "execution_count": 112,
   "metadata": {
    "collapsed": false
   },
   "outputs": [],
   "source": [
    "def scrape_directors_actors_actresses():\n",
    "    \"\"\"\n",
    "    In:\n",
    "    None\n",
    "    \n",
    "    Out:\n",
    "    directors, actors, actresses = Lists of 51 frequently mentioned directors, actors, actresses on the web\n",
    "    \"\"\"\n",
    "    urls = [\"https://www.google.com/#q=list%20of%20top%20directors\",\n",
    "            \"https://www.google.com/#q=list%20of%20top%20actors\",\n",
    "            \"https://www.google.com/#q=list%20of%20top%20actresses\"]\n",
    "    directors, actors, actresses = scrape_google_frequently_mentioned_bar_names(urls)\n",
    "    return directors, actors, actresses\n",
    "\n",
    "directors, actors, actresses = scrape_directors_actors_actresses()"
   ]
  },
  {
   "cell_type": "code",
   "execution_count": null,
   "metadata": {
    "collapsed": false,
    "scrolled": true
   },
   "outputs": [],
   "source": [
    "\"\"\"Uncomment this when you want to save the data you scraped\"\"\"\n",
    "# pickle_it(tuple([directors, actors, actresses]), \"directors_actors_actresses.pkl\")\n",
    "!ls"
   ]
  },
  {
   "cell_type": "code",
   "execution_count": 122,
   "metadata": {
    "collapsed": true
   },
   "outputs": [],
   "source": [
    "def scrape_writers():\n",
    "    \"\"\"\n",
    "    In:\n",
    "    None\n",
    "    \n",
    "    Out:\n",
    "    writers = Lists of 51 frequently mentioned writers on the web\n",
    "    \"\"\"\n",
    "    urls = [\"https://www.google.com/#q=list%20of%20top%20movie%20writers\"]\n",
    "    writers = scrape_google_frequently_mentioned_bar_names(urls)\n",
    "    return writers[0]\n",
    "\n",
    "writers = scrape_writers()"
   ]
  },
  {
   "cell_type": "code",
   "execution_count": null,
   "metadata": {
    "collapsed": false
   },
   "outputs": [],
   "source": [
    "\"\"\"Uncomment this when you want to save the data you scraped\"\"\"\n",
    "# pickle_it(writers, \"writers.pkl\")\n",
    "!ls"
   ]
  },
  {
   "cell_type": "code",
   "execution_count": null,
   "metadata": {
    "collapsed": true
   },
   "outputs": [],
   "source": []
  }
 ],
 "metadata": {
  "kernelspec": {
   "display_name": "Python 3",
   "language": "python",
   "name": "python3"
  },
  "language_info": {
   "codemirror_mode": {
    "name": "ipython",
    "version": 3
   },
   "file_extension": ".py",
   "mimetype": "text/x-python",
   "name": "python",
   "nbconvert_exporter": "python",
   "pygments_lexer": "ipython3",
   "version": "3.4.3"
  }
 },
 "nbformat": 4,
 "nbformat_minor": 0
}

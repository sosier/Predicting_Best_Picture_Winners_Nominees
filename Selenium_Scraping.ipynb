{
 "cells": [
  {
   "cell_type": "markdown",
   "metadata": {},
   "source": [
    "# Predicting Best Picture Winners & Nominees\n",
    "*An Analysis by Sean Osier*"
   ]
  },
  {
   "cell_type": "markdown",
   "metadata": {},
   "source": [
    "### Data Scraping with Selenium"
   ]
  },
  {
   "cell_type": "code",
   "execution_count": 117,
   "metadata": {
    "collapsed": true
   },
   "outputs": [],
   "source": [
    "# Import Dependencies\n",
    "import pickle\n",
    "import os\n",
    "from selenium import webdriver\n",
    "from selenium.webdriver.support.ui import WebDriverWait\n",
    "from selenium.webdriver.support import expected_conditions as EC\n",
    "from selenium.common.exceptions import TimeoutException\n",
    "from selenium.webdriver.common.keys import Keys\n",
    "import time"
   ]
  },
  {
   "cell_type": "code",
   "execution_count": 3,
   "metadata": {
    "collapsed": true
   },
   "outputs": [],
   "source": [
    "# Pickling functions\n",
    "def pickle_it(data, filename, python_version=3):\n",
    "    with open(filename, \"wb\") as picklefile:\n",
    "        pickle.dump(data, picklefile, protocol=python_version)\n",
    "\n",
    "def load_pickle(filename):\n",
    "    with open(filename, \"rb\") as picklefile: \n",
    "        return pickle.load(picklefile)"
   ]
  },
  {
   "cell_type": "code",
   "execution_count": 106,
   "metadata": {
    "collapsed": false
   },
   "outputs": [],
   "source": [
    "# Selenium class and methods\n",
    "class Selenium(object):\n",
    "    def __init__(self, url):\n",
    "        self.chromedriver = \"/Users/seanosier/Downloads/chromedriver\"\n",
    "        os.environ[\"webdriver.chrome.driver\"] = chromedriver\n",
    "        self.driver = webdriver.Chrome(chromedriver)\n",
    "        self.driver.get(url)\n",
    "        self.delay = 2  # seconds\n",
    "        time.sleep(self.delay)\n",
    "    \n",
    "    def open_page(self, url):\n",
    "        self.driver.get(url)\n",
    "        time.sleep(self.delay) \n",
    "\n",
    "    def find(self, tag, attr, value):\n",
    "        selector = \"//%s[contains(@%s, '%s')]\" % (tag, attr, value)\n",
    "        return_list = []\n",
    "        for item in self.driver.find_elements_by_xpath(selector):\n",
    "            return_list.append(item.text)\n",
    "\n",
    "        return return_list\n",
    "        \n",
    "    def close(self):\n",
    "        self.driver.close()"
   ]
  },
  {
   "cell_type": "code",
   "execution_count": 107,
   "metadata": {
    "collapsed": false
   },
   "outputs": [],
   "source": [
    "# Selenium funcitons\n",
    "def selenium_single_scrape(urls, tag, attr, value):\n",
    "    sel = \"Not yet initiated\"\n",
    "    all_results = []\n",
    "    for i, url in enumerate(urls):\n",
    "        if i == 0:\n",
    "            sel = Selenium(url)\n",
    "        else:\n",
    "            sel.open_page(url)\n",
    "        result_list = sel.find(tag, attr, value)\n",
    "        all_results.append(result_list)\n",
    "    sel.close()\n",
    "    return tuple(all_results)\n",
    "\n",
    "def scrape_google_frequently_mentioned_bar_names(urls):\n",
    "    results = selenium_single_scrape(urls, \"div\", \"class\", \"kltat\")\n",
    "    return results"
   ]
  },
  {
   "cell_type": "code",
   "execution_count": 112,
   "metadata": {
    "collapsed": false
   },
   "outputs": [],
   "source": [
    "def scrape_directors_actors_actresses():\n",
    "    urls = [\"https://www.google.com/#q=list%20of%20top%20directors\",\n",
    "            \"https://www.google.com/#q=list%20of%20top%20actors\",\n",
    "            \"https://www.google.com/#q=list%20of%20top%20actresses\"]\n",
    "    directors, actors, actresses = scrape_google_frequently_mentioned_bar_names(urls)\n",
    "    return directors, actors, actresses\n",
    "\n",
    "directors, actors, actresses = scrape_directors_actors_actresses()"
   ]
  },
  {
   "cell_type": "code",
   "execution_count": 111,
   "metadata": {
    "collapsed": false,
    "scrolled": true
   },
   "outputs": [
    {
     "name": "stdout",
     "output_type": "stream",
     "text": [
      "Data_Processing.ipynb          detailed_movie_data4.pkl\r\n",
      "Data_Scraping.ipynb            detailed_movie_data5.pkl\r\n",
      "Selenium_Scraping.ipynb        detailed_movie_data6.pkl\r\n",
      "all_links.pkl                  detailed_movie_data7.pkl\r\n",
      "detailed_movie_data1.pkl       detailed_movie_data7b.pkl\r\n",
      "detailed_movie_data10.pkl      detailed_movie_data8.pkl\r\n",
      "detailed_movie_data11.pkl      detailed_movie_data9.pkl\r\n",
      "detailed_movie_data12.pkl      directors_actors_actresses.pkl\r\n",
      "detailed_movie_data13.pkl      movie_data.pkl\r\n",
      "detailed_movie_data2.pkl       nominees_and_winners.pkl\r\n",
      "detailed_movie_data3.pkl\r\n"
     ]
    }
   ],
   "source": [
    "# pickle_it(tuple([directors, actors, actresses]), \"directors_actors_actresses.pkl\")\n",
    "!ls"
   ]
  },
  {
   "cell_type": "code",
   "execution_count": null,
   "metadata": {
    "collapsed": true
   },
   "outputs": [],
   "source": []
  }
 ],
 "metadata": {
  "kernelspec": {
   "display_name": "Python 3",
   "language": "python",
   "name": "python3"
  },
  "language_info": {
   "codemirror_mode": {
    "name": "ipython",
    "version": 3
   },
   "file_extension": ".py",
   "mimetype": "text/x-python",
   "name": "python",
   "nbconvert_exporter": "python",
   "pygments_lexer": "ipython3",
   "version": "3.4.3"
  }
 },
 "nbformat": 4,
 "nbformat_minor": 0
}
